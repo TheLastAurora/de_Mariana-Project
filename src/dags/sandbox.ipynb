{
 "cells": [
  {
   "cell_type": "code",
   "execution_count": 50,
   "metadata": {},
   "outputs": [],
   "source": [
    "import sys\n",
    "sys.path.append(\"../repository/\")\n",
    "import database as db\n",
    "import polars as pl"
   ]
  },
  {
   "cell_type": "code",
   "execution_count": 51,
   "metadata": {},
   "outputs": [],
   "source": [
    "conn_wgi = db.DatabaseConnection(\"world-governance-index\").connection\n",
    "conn_ti = db.DatabaseConnection(\"transformation-index\").connection\n",
    "conn_ef = db.DatabaseConnection(\"economic-freedom\").connection\n",
    "conn_db = db.DatabaseConnection(\"doing-bussiness\").connection\n",
    "\n",
    "\n"
   ]
  },
  {
   "cell_type": "code",
   "execution_count": 52,
   "metadata": {},
   "outputs": [],
   "source": [
    "def property_rights() -> pl.DataFrame:\n",
    "    wgi = pl.read_database(\n",
    "        query=\"\"\"\n",
    "        SELECT country_id, year, rank\n",
    "        FROM \"RuleOfLaw\"\n",
    "        \"\"\",\n",
    "        connection=conn_wgi,\n",
    "    )\n",
    "    ef = pl.read_database(\n",
    "        query=\"\"\"\n",
    "        SELECT country_id, year, property_rights, real_property, protection_of_foreign_assets\n",
    "        FROM \"freedom\"\n",
    "        \"\"\",\n",
    "        connection=conn_ef,\n",
    "    )\n",
    "    ti = pl.read_database(\n",
    "        query=\"\"\"\n",
    "        SELECT country_id, year, private_property, property_rights\n",
    "        FROM \"freedom\"\n",
    "        \"\"\",\n",
    "        connection=conn_ti,\n",
    "    )\n",
    "    wgi.join(ef, on=\"country_id\", how=\"inner\")\n",
    "\n",
    "    return wgi"
   ]
  },
  {
   "cell_type": "code",
   "execution_count": 53,
   "metadata": {},
   "outputs": [
    {
     "data": {
      "text/html": [
       "<div><style>\n",
       ".dataframe > thead > tr,\n",
       ".dataframe > tbody > tr {\n",
       "  text-align: right;\n",
       "  white-space: pre-wrap;\n",
       "}\n",
       "</style>\n",
       "<small>shape: (4_968, 3)</small><table border=\"1\" class=\"dataframe\"><thead><tr><th>country_id</th><th>year</th><th>rank</th></tr><tr><td>i64</td><td>str</td><td>str</td></tr></thead><tbody><tr><td>12</td><td>&quot;1996&quot;</td><td>null</td></tr><tr><td>12</td><td>&quot;1998&quot;</td><td>null</td></tr><tr><td>12</td><td>&quot;2000&quot;</td><td>null</td></tr><tr><td>12</td><td>&quot;2002&quot;</td><td>null</td></tr><tr><td>12</td><td>&quot;2003&quot;</td><td>null</td></tr><tr><td>12</td><td>&quot;2004&quot;</td><td>&quot;80,77&quot;</td></tr><tr><td>12</td><td>&quot;2005&quot;</td><td>&quot;77,99&quot;</td></tr><tr><td>12</td><td>&quot;2006&quot;</td><td>&quot;72,73&quot;</td></tr><tr><td>12</td><td>&quot;2007&quot;</td><td>&quot;75,12&quot;</td></tr><tr><td>12</td><td>&quot;2008&quot;</td><td>&quot;76,44&quot;</td></tr><tr><td>12</td><td>&quot;2009&quot;</td><td>&quot;89,57&quot;</td></tr><tr><td>12</td><td>&quot;2010&quot;</td><td>&quot;89,57&quot;</td></tr><tr><td>&hellip;</td><td>&hellip;</td><td>&hellip;</td></tr><tr><td>248</td><td>&quot;2011&quot;</td><td>&quot;0,94&quot;</td></tr><tr><td>248</td><td>&quot;2012&quot;</td><td>&quot;1,88&quot;</td></tr><tr><td>248</td><td>&quot;2013&quot;</td><td>&quot;2,35&quot;</td></tr><tr><td>248</td><td>&quot;2014&quot;</td><td>&quot;3,85&quot;</td></tr><tr><td>248</td><td>&quot;2015&quot;</td><td>&quot;5,71&quot;</td></tr><tr><td>248</td><td>&quot;2016&quot;</td><td>&quot;8,10&quot;</td></tr><tr><td>248</td><td>&quot;2017&quot;</td><td>&quot;7,14&quot;</td></tr><tr><td>248</td><td>&quot;2018&quot;</td><td>&quot;8,10&quot;</td></tr><tr><td>248</td><td>&quot;2019&quot;</td><td>&quot;7,14&quot;</td></tr><tr><td>248</td><td>&quot;2020&quot;</td><td>&quot;7,62&quot;</td></tr><tr><td>248</td><td>&quot;2021&quot;</td><td>&quot;8,57&quot;</td></tr><tr><td>248</td><td>&quot;2022&quot;</td><td>&quot;11,32&quot;</td></tr></tbody></table></div>"
      ],
      "text/plain": [
       "shape: (4_968, 3)\n",
       "┌────────────┬──────┬───────┐\n",
       "│ country_id ┆ year ┆ rank  │\n",
       "│ ---        ┆ ---  ┆ ---   │\n",
       "│ i64        ┆ str  ┆ str   │\n",
       "╞════════════╪══════╪═══════╡\n",
       "│ 12         ┆ 1996 ┆ null  │\n",
       "│ 12         ┆ 1998 ┆ null  │\n",
       "│ 12         ┆ 2000 ┆ null  │\n",
       "│ 12         ┆ 2002 ┆ null  │\n",
       "│ …          ┆ …    ┆ …     │\n",
       "│ 248        ┆ 2019 ┆ 7,14  │\n",
       "│ 248        ┆ 2020 ┆ 7,62  │\n",
       "│ 248        ┆ 2021 ┆ 8,57  │\n",
       "│ 248        ┆ 2022 ┆ 11,32 │\n",
       "└────────────┴──────┴───────┘"
      ]
     },
     "execution_count": 53,
     "metadata": {},
     "output_type": "execute_result"
    }
   ],
   "source": [
    "property_rights()"
   ]
  }
 ],
 "metadata": {
  "kernelspec": {
   "display_name": ".venv",
   "language": "python",
   "name": "python3"
  },
  "language_info": {
   "codemirror_mode": {
    "name": "ipython",
    "version": 3
   },
   "file_extension": ".py",
   "mimetype": "text/x-python",
   "name": "python",
   "nbconvert_exporter": "python",
   "pygments_lexer": "ipython3",
   "version": "3.11.4"
  }
 },
 "nbformat": 4,
 "nbformat_minor": 2
}
