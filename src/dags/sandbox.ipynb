{
 "cells": [
  {
   "cell_type": "code",
   "execution_count": 1,
   "metadata": {},
   "outputs": [],
   "source": [
    "import sys\n",
    "sys.path.append(\"../repository/\")\n",
    "import database as db\n",
    "import polars as pl"
   ]
  },
  {
   "cell_type": "code",
   "execution_count": 2,
   "metadata": {},
   "outputs": [],
   "source": [
    "conn = db.DatabaseConnection(db_name=\"economic-freedom\").connection"
   ]
  },
  {
   "cell_type": "code",
   "execution_count": 3,
   "metadata": {},
   "outputs": [],
   "source": [
    "df = pl.read_database(query=\"SELECT * FROM freedom\", connection=conn)\n",
    "iso_codes = pl.read_database(query=\"SELECT * FROM iso_codes\", connection=conn)\n",
    "df = (\n",
    "    df.join(iso_codes, left_on=\"country_id\", right_on=\"id\", how=\"inner\")\n",
    "    .select(pl.exclude(iso_codes.columns), pl.col(\"name\"))\n",
    "    .sort(pl.col([\"year\"]), descending=False)\n",
    ")"
   ]
  },
  {
   "cell_type": "code",
   "execution_count": 4,
   "metadata": {},
   "outputs": [
    {
     "data": {
      "text/html": [
       "<div><style>\n",
       ".dataframe > thead > tr,\n",
       ".dataframe > tbody > tr {\n",
       "  text-align: right;\n",
       "  white-space: pre-wrap;\n",
       "}\n",
       "</style>\n",
       "<small>shape: (5, 56)</small><table border=\"1\" class=\"dataframe\"><thead><tr><th>year</th><th>country_id</th><th>economic_freedom_summary_index</th><th>rank</th><th>quartile</th><th>top_marginal_income_tax_rate</th><th>top_marginal_income_and_payroll_tax_rate</th><th>top_marginal_tax_rate</th><th>ie_state_ownership</th><th>area_1_rank</th><th>property_rights</th><th>contracts</th><th>real_property</th><th>gender_disparity_index</th><th>area_2_rank</th><th>money_growth</th><th>standard_deviation_of_inflation</th><th>inflation</th><th>foreign_currency_bank_accounts</th><th>area_3_rank</th><th>trade_tax_revenue</th><th>mean_tariff_rate</th><th>standard_deviation_of_tariff_rates</th><th>tariffs</th><th>non-tariff_trade_barriers</th><th>costs_of_importing_and_exporting</th><th>regulatory_trade_barriers</th><th>black_market_exchange_rates</th><th>financial_openness</th><th>capital_controls</th><th>freedom_of_foreigners_to_visit</th><th>protection_of_foreign_assets</th><th>controls_of_the_movement_of_capital_and_people</th><th>area_4_rank</th><th>ownership_of_banks</th><th>private_sector_credit</th><th>interest_rate_controls/negative_real_interest_rates)</th><th>credit_market_regulation</th><th>labor_regulations_and_minimum_wage</th><th>hiring_and_firing_regulations</th><th>flexible_wage_determination</th><th>hours_regulations</th><th>cost_of_worker_dismissal</th><th>conscription</th><th>foreign_labor</th><th>labor_market_regulations</th><th>regulatory_burden</th><th>bureacracy_costs</th><th>business_regulations</th><th>market_openness</th><th>business_permits</th><th>distorton_of_the_business_environment</th><th>freedom_to_enter_markets_and_compete</th><th>area_5_rank</th><th>world_bank_current_income_classification,_1990-present</th><th>name</th></tr><tr><td>i64</td><td>i64</td><td>f64</td><td>i64</td><td>i64</td><td>i64</td><td>i64</td><td>f64</td><td>f64</td><td>i64</td><td>f64</td><td>f64</td><td>f64</td><td>f64</td><td>i64</td><td>f64</td><td>f64</td><td>f64</td><td>i64</td><td>i64</td><td>f64</td><td>f64</td><td>f64</td><td>f64</td><td>f64</td><td>f64</td><td>f64</td><td>f64</td><td>f64</td><td>f64</td><td>f64</td><td>f64</td><td>f64</td><td>i64</td><td>i64</td><td>f64</td><td>i64</td><td>f64</td><td>f64</td><td>f64</td><td>f64</td><td>i64</td><td>f64</td><td>i64</td><td>f64</td><td>f64</td><td>f64</td><td>f64</td><td>f64</td><td>f64</td><td>f64</td><td>f64</td><td>f64</td><td>i64</td><td>str</td><td>str</td></tr></thead><tbody><tr><td>2017</td><td>31</td><td>6.75</td><td>86</td><td>3</td><td>8</td><td>4</td><td>6.0</td><td>8.18</td><td>82</td><td>6.4</td><td>3.05</td><td>8.2</td><td>1.0</td><td>64</td><td>8.54</td><td>9.22</td><td>9.31</td><td>10</td><td>46</td><td>8.62</td><td>7.32</td><td>6.14</td><td>7.36</td><td>4.52</td><td>7.87</td><td>6.19</td><td>10.0</td><td>4.58</td><td>2.31</td><td>9.62</td><td>6.35</td><td>5.72</td><td>77</td><td>5</td><td>4.9</td><td>5</td><td>4.97</td><td>3.62</td><td>6.06</td><td>5.19</td><td>6</td><td>7.13</td><td>3</td><td>4.7</td><td>5.1</td><td>1.05</td><td>6.0</td><td>3.5</td><td>7.32</td><td>5.0</td><td>7.5</td><td>6.61</td><td>144</td><td>&quot;UM&quot;</td><td>&quot;Brazil&quot;</td></tr><tr><td>2018</td><td>31</td><td>6.74</td><td>87</td><td>3</td><td>8</td><td>3</td><td>5.5</td><td>8.18</td><td>80</td><td>6.19</td><td>3.05</td><td>8.24</td><td>1.0</td><td>68</td><td>8.81</td><td>8.99</td><td>9.27</td><td>10</td><td>65</td><td>8.62</td><td>7.32</td><td>6.14</td><td>7.36</td><td>4.52</td><td>7.87</td><td>6.19</td><td>10.0</td><td>4.57</td><td>2.31</td><td>9.62</td><td>6.35</td><td>5.71</td><td>79</td><td>5</td><td>4.9</td><td>6</td><td>5.3</td><td>3.62</td><td>6.06</td><td>5.48</td><td>6</td><td>7.13</td><td>3</td><td>4.7</td><td>5.14</td><td>1.14</td><td>6.22</td><td>3.37</td><td>7.36</td><td>5.4</td><td>7.5</td><td>6.75</td><td>143</td><td>&quot;UM&quot;</td><td>&quot;Brazil&quot;</td></tr><tr><td>2019</td><td>31</td><td>6.73</td><td>88</td><td>3</td><td>8</td><td>3</td><td>5.5</td><td>8.18</td><td>82</td><td>6.19</td><td>3.05</td><td>8.24</td><td>1.0</td><td>72</td><td>8.82</td><td>8.98</td><td>9.27</td><td>10</td><td>70</td><td>8.63</td><td>7.32</td><td>6.14</td><td>7.36</td><td>4.52</td><td>7.87</td><td>6.19</td><td>10.0</td><td>4.57</td><td>2.31</td><td>10.0</td><td>6.35</td><td>5.81</td><td>79</td><td>5</td><td>5.18</td><td>6</td><td>5.39</td><td>3.62</td><td>6.06</td><td>5.48</td><td>6</td><td>7.13</td><td>3</td><td>4.7</td><td>5.14</td><td>1.14</td><td>6.22</td><td>3.45</td><td>7.36</td><td>5.4</td><td>7.5</td><td>6.75</td><td>144</td><td>&quot;UM&quot;</td><td>&quot;Brazil&quot;</td></tr><tr><td>2020</td><td>31</td><td>6.47</td><td>96</td><td>3</td><td>8</td><td>2</td><td>5.0</td><td>8.18</td><td>96</td><td>6.19</td><td>3.05</td><td>8.24</td><td>1.0</td><td>72</td><td>8.47</td><td>9.16</td><td>9.25</td><td>10</td><td>52</td><td>8.73</td><td>7.34</td><td>6.12</td><td>7.4</td><td>4.52</td><td>7.87</td><td>6.19</td><td>10.0</td><td>4.57</td><td>2.31</td><td>0.0</td><td>6.35</td><td>3.31</td><td>87</td><td>5</td><td>1.09</td><td>7</td><td>4.36</td><td>3.62</td><td>6.06</td><td>5.48</td><td>6</td><td>7.13</td><td>3</td><td>4.7</td><td>5.14</td><td>1.14</td><td>6.22</td><td>3.45</td><td>7.36</td><td>5.4</td><td>7.5</td><td>6.75</td><td>148</td><td>&quot;UM&quot;</td><td>&quot;Brazil&quot;</td></tr><tr><td>2021</td><td>31</td><td>6.58</td><td>90</td><td>3</td><td>8</td><td>2</td><td>5.0</td><td>7.53</td><td>81</td><td>6.19</td><td>3.05</td><td>8.24</td><td>1.0</td><td>75</td><td>8.47</td><td>8.68</td><td>8.34</td><td>10</td><td>74</td><td>8.79</td><td>7.34</td><td>6.12</td><td>7.42</td><td>4.52</td><td>7.87</td><td>6.19</td><td>10.0</td><td>4.57</td><td>2.31</td><td>0.0</td><td>6.35</td><td>3.31</td><td>87</td><td>5</td><td>8.67</td><td>7</td><td>6.89</td><td>3.62</td><td>6.06</td><td>5.48</td><td>6</td><td>7.13</td><td>3</td><td>4.7</td><td>5.14</td><td>1.14</td><td>6.22</td><td>3.56</td><td>7.36</td><td>5.4</td><td>7.5</td><td>6.75</td><td>133</td><td>&quot;UM&quot;</td><td>&quot;Brazil&quot;</td></tr></tbody></table></div>"
      ],
      "text/plain": [
       "shape: (5, 56)\n",
       "┌──────┬────────────┬──────────────┬──────┬───┬──────────────┬─────────────┬──────────────┬────────┐\n",
       "│ year ┆ country_id ┆ economic_fre ┆ rank ┆ … ┆ freedom_to_e ┆ area_5_rank ┆ world_bank_c ┆ name   │\n",
       "│ ---  ┆ ---        ┆ edom_summary ┆ ---  ┆   ┆ nter_markets ┆ ---         ┆ urrent_incom ┆ ---    │\n",
       "│ i64  ┆ i64        ┆ _index       ┆ i64  ┆   ┆ _and_com…    ┆ i64         ┆ e_classi…    ┆ str    │\n",
       "│      ┆            ┆ ---          ┆      ┆   ┆ ---          ┆             ┆ ---          ┆        │\n",
       "│      ┆            ┆ f64          ┆      ┆   ┆ f64          ┆             ┆ str          ┆        │\n",
       "╞══════╪════════════╪══════════════╪══════╪═══╪══════════════╪═════════════╪══════════════╪════════╡\n",
       "│ 2017 ┆ 31         ┆ 6.75         ┆ 86   ┆ … ┆ 6.61         ┆ 144         ┆ UM           ┆ Brazil │\n",
       "│ 2018 ┆ 31         ┆ 6.74         ┆ 87   ┆ … ┆ 6.75         ┆ 143         ┆ UM           ┆ Brazil │\n",
       "│ 2019 ┆ 31         ┆ 6.73         ┆ 88   ┆ … ┆ 6.75         ┆ 144         ┆ UM           ┆ Brazil │\n",
       "│ 2020 ┆ 31         ┆ 6.47         ┆ 96   ┆ … ┆ 6.75         ┆ 148         ┆ UM           ┆ Brazil │\n",
       "│ 2021 ┆ 31         ┆ 6.58         ┆ 90   ┆ … ┆ 6.75         ┆ 133         ┆ UM           ┆ Brazil │\n",
       "└──────┴────────────┴──────────────┴──────┴───┴──────────────┴─────────────┴──────────────┴────────┘"
      ]
     },
     "execution_count": 4,
     "metadata": {},
     "output_type": "execute_result"
    }
   ],
   "source": [
    "df.filter(pl.col(\"name\") == \"Brazil\")"
   ]
  }
 ],
 "metadata": {
  "kernelspec": {
   "display_name": ".venv",
   "language": "python",
   "name": "python3"
  },
  "language_info": {
   "codemirror_mode": {
    "name": "ipython",
    "version": 3
   },
   "file_extension": ".py",
   "mimetype": "text/x-python",
   "name": "python",
   "nbconvert_exporter": "python",
   "pygments_lexer": "ipython3",
   "version": "3.11.6"
  }
 },
 "nbformat": 4,
 "nbformat_minor": 2
}
