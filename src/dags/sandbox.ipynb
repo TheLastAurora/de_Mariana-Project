{
 "cells": [
  {
   "cell_type": "code",
   "execution_count": 4,
   "metadata": {},
   "outputs": [],
   "source": [
    "import sys\n",
    "sys.path.insert(0, '../repository')\n",
    "import database"
   ]
  },
  {
   "cell_type": "code",
   "execution_count": 5,
   "metadata": {},
   "outputs": [],
   "source": [
    "import polars as pl\n"
   ]
  },
  {
   "cell_type": "code",
   "execution_count": 6,
   "metadata": {},
   "outputs": [],
   "source": [
    "db = database.DatabaseConnection('economic-freedom').connection"
   ]
  },
  {
   "cell_type": "code",
   "execution_count": 7,
   "metadata": {},
   "outputs": [],
   "source": [
    "df = pl.read_database(query=\"SELECT * FROM freedom\", connection=db)\n",
    "iso_codes = pl.read_database(query=\"SELECT * FROM iso_codes\", connection=db)"
   ]
  },
  {
   "cell_type": "code",
   "execution_count": 8,
   "metadata": {},
   "outputs": [
    {
     "data": {
      "text/html": [
       "<div><style>\n",
       ".dataframe > thead > tr,\n",
       ".dataframe > tbody > tr {\n",
       "  text-align: right;\n",
       "  white-space: pre-wrap;\n",
       "}\n",
       "</style>\n",
       "<small>shape: (5, 13)</small><table border=\"1\" class=\"dataframe\"><thead><tr><th>country_id</th><th>year</th><th>government_consumption</th><th>transfers_and_subsidies</th><th>government_investment</th><th>judicial_independence</th><th>impartial_courts</th><th>military_interference</th><th>legal_integrity</th><th>police_and_crime</th><th>impartial_public_administration</th><th>tax_compliance</th><th>name</th></tr><tr><td>i64</td><td>i64</td><td>f64</td><td>f64</td><td>f64</td><td>f64</td><td>f64</td><td>f64</td><td>f64</td><td>f64</td><td>f64</td><td>f64</td><td>str</td></tr></thead><tbody><tr><td>31</td><td>2017</td><td>4.7</td><td>5.22</td><td>9.7</td><td>6.0</td><td>4.82</td><td>6.67</td><td>4.41</td><td>3.29</td><td>5.69</td><td>1.25</td><td>&quot;Brazil&quot;</td></tr><tr><td>31</td><td>2018</td><td>4.86</td><td>5.16</td><td>10.0</td><td>5.73</td><td>4.8</td><td>6.7</td><td>4.06</td><td>3.18</td><td>4.85</td><td>1.25</td><td>&quot;Brazil&quot;</td></tr><tr><td>31</td><td>2019</td><td>4.76</td><td>5.15</td><td>10.0</td><td>5.5</td><td>4.85</td><td>5.83</td><td>4.43</td><td>3.18</td><td>5.2</td><td>1.25</td><td>&quot;Brazil&quot;</td></tr><tr><td>31</td><td>2020</td><td>4.52</td><td>3.72</td><td>10.0</td><td>5.29</td><td>4.76</td><td>5.83</td><td>5.18</td><td>3.18</td><td>5.2</td><td>1.25</td><td>&quot;Brazil&quot;</td></tr><tr><td>31</td><td>2021</td><td>4.75</td><td>5.47</td><td>10.0</td><td>5.17</td><td>4.8</td><td>5.83</td><td>5.02</td><td>3.18</td><td>5.63</td><td>1.25</td><td>&quot;Brazil&quot;</td></tr></tbody></table></div>"
      ],
      "text/plain": [
       "shape: (5, 13)\n",
       "┌────────────┬──────┬─────────────┬────────────┬───┬────────────┬────────────┬────────────┬────────┐\n",
       "│ country_id ┆ year ┆ government_ ┆ transfers_ ┆ … ┆ police_and ┆ impartial_ ┆ tax_compli ┆ name   │\n",
       "│ ---        ┆ ---  ┆ consumption ┆ and_subsid ┆   ┆ _crime     ┆ public_adm ┆ ance       ┆ ---    │\n",
       "│ i64        ┆ i64  ┆ ---         ┆ ies        ┆   ┆ ---        ┆ inistratio ┆ ---        ┆ str    │\n",
       "│            ┆      ┆ f64         ┆ ---        ┆   ┆ f64        ┆ n          ┆ f64        ┆        │\n",
       "│            ┆      ┆             ┆ f64        ┆   ┆            ┆ ---        ┆            ┆        │\n",
       "│            ┆      ┆             ┆            ┆   ┆            ┆ f64        ┆            ┆        │\n",
       "╞════════════╪══════╪═════════════╪════════════╪═══╪════════════╪════════════╪════════════╪════════╡\n",
       "│ 31         ┆ 2017 ┆ 4.7         ┆ 5.22       ┆ … ┆ 3.29       ┆ 5.69       ┆ 1.25       ┆ Brazil │\n",
       "│ 31         ┆ 2018 ┆ 4.86        ┆ 5.16       ┆ … ┆ 3.18       ┆ 4.85       ┆ 1.25       ┆ Brazil │\n",
       "│ 31         ┆ 2019 ┆ 4.76        ┆ 5.15       ┆ … ┆ 3.18       ┆ 5.2        ┆ 1.25       ┆ Brazil │\n",
       "│ 31         ┆ 2020 ┆ 4.52        ┆ 3.72       ┆ … ┆ 3.18       ┆ 5.2        ┆ 1.25       ┆ Brazil │\n",
       "│ 31         ┆ 2021 ┆ 4.75        ┆ 5.47       ┆ … ┆ 3.18       ┆ 5.63       ┆ 1.25       ┆ Brazil │\n",
       "└────────────┴──────┴─────────────┴────────────┴───┴────────────┴────────────┴────────────┴────────┘"
      ]
     },
     "execution_count": 8,
     "metadata": {},
     "output_type": "execute_result"
    }
   ],
   "source": [
    "df.join(iso_codes, left_on=\"country_id\", right_on=\"id\", how=\"inner\") \\\n",
    "    .select(pl.exclude(iso_codes.columns), pl.col(\"name\")) \\\n",
    "    .sort(pl.col([\"year\"]), descending=False).filter(pl.col(\"name\") == \"Brazil\")"
   ]
  }
 ],
 "metadata": {
  "kernelspec": {
   "display_name": "Python 3",
   "language": "python",
   "name": "python3"
  },
  "language_info": {
   "codemirror_mode": {
    "name": "ipython",
    "version": 3
   },
   "file_extension": ".py",
   "mimetype": "text/x-python",
   "name": "python",
   "nbconvert_exporter": "python",
   "pygments_lexer": "ipython3",
   "version": "3.11.6"
  }
 },
 "nbformat": 4,
 "nbformat_minor": 2
}
