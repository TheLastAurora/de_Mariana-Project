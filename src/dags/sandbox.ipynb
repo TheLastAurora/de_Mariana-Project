{
 "cells": [
  {
   "cell_type": "markdown",
   "metadata": {},
   "source": [
    "# Ranking for property"
   ]
  },
  {
   "cell_type": "code",
   "execution_count": 56,
   "metadata": {},
   "outputs": [],
   "source": [
    "import sys\n",
    "sys.path.append(\"../repository/\")\n",
    "import database as db\n",
    "import polars as pl\n",
    "from math import floor"
   ]
  },
  {
   "cell_type": "code",
   "execution_count": 57,
   "metadata": {},
   "outputs": [],
   "source": [
    "conn_wgi = db.DatabaseConnection(\"world-governance-index\").connection\n",
    "conn_ti = db.DatabaseConnection(\"transformation-index\").connection\n",
    "conn_ef = db.DatabaseConnection(\"economic-freedom\").connection\n",
    "conn_db = db.DatabaseConnection(\"doing-bussiness\").connection"
   ]
  },
  {
   "cell_type": "code",
   "execution_count": 58,
   "metadata": {},
   "outputs": [],
   "source": [
    "ef_expression = pl.read_database(\n",
    "    query=\"\"\"\n",
    "    SELECT country_id, freedom_of_foreigners_to_visit \n",
    "    FROM \"freedom\" \n",
    "    WHERE \"year\" = 2020 \n",
    "    ORDER BY country_id\n",
    "    \"\"\",\n",
    "    connection=conn_ef,\n",
    ")\n",
    "\n",
    "ti_expression = pl.read_database(\n",
    "    query=\"\"\"\n",
    "    SELECT country_id, freedom_of_expression \n",
    "    FROM \"freedom\" \n",
    "    WHERE \"year\" = 2020 \n",
    "    ORDER BY country_id\n",
    "    \"\"\",\n",
    "    connection=conn_ti,\n",
    ")\n",
    "\n",
    "wgi_expression_rank = pl.read_database(\n",
    "    query=\"\"\"\n",
    "    SELECT country_id, rank \n",
    "    FROM \"VoiceAccountability\" \n",
    "    WHERE \"year\" = 2020\n",
    "    ORDER BY country_id\n",
    "    \"\"\",\n",
    "    connection=conn_wgi,\n",
    ")"
   ]
  },
  {
   "cell_type": "code",
   "execution_count": 59,
   "metadata": {},
   "outputs": [],
   "source": [
    "ef_expression = ef_expression.sort(by=\"freedom_of_foreigners_to_visit\", descending=True)\n",
    "ef_rank = ef_expression.with_columns(\n",
    "    ef_rank=ef_expression[\"freedom_of_foreigners_to_visit\"].rank(\"ordinal\", descending=True)\n",
    ").select(pl.exclude(\"freedom_of_foreigners_to_visit\"))"
   ]
  },
  {
   "cell_type": "code",
   "execution_count": 60,
   "metadata": {},
   "outputs": [],
   "source": [
    "ti_expression = ti_expression.sort(by=\"freedom_of_expression\", descending=True)\n",
    "ti_rank = ti_expression.with_columns(\n",
    "    ti_rank=ti_expression[\"freedom_of_expression\"].rank(\"ordinal\", descending=True)\n",
    ").select(pl.exclude(\"freedom_of_expression\"))"
   ]
  },
  {
   "cell_type": "code",
   "execution_count": 61,
   "metadata": {},
   "outputs": [],
   "source": [
    "wgi_rank = wgi_expression_rank.rename({\"rank\": \"wgi_rank\"})"
   ]
  },
  {
   "cell_type": "code",
   "execution_count": 62,
   "metadata": {},
   "outputs": [
    {
     "data": {
      "text/html": [
       "<div><style>\n",
       ".dataframe > thead > tr,\n",
       ".dataframe > tbody > tr {\n",
       "  text-align: right;\n",
       "  white-space: pre-wrap;\n",
       "}\n",
       "</style>\n",
       "<small>shape: (207, 4)</small><table border=\"1\" class=\"dataframe\"><thead><tr><th>country_id</th><th>wgi_rank</th><th>ef_rank</th><th>ti_rank</th></tr><tr><td>i64</td><td>f64</td><td>u32</td><td>u32</td></tr></thead><tbody><tr><td>44</td><td>79.71</td><td>48</td><td>1</td></tr><tr><td>53</td><td>85.99</td><td>30</td><td>2</td></tr><tr><td>69</td><td>87.92</td><td>12</td><td>3</td></tr><tr><td>111</td><td>66.67</td><td>69</td><td>4</td></tr><tr><td>237</td><td>93.72</td><td>105</td><td>5</td></tr><tr><td>10</td><td>65.7</td><td>38</td><td>6</td></tr><tr><td>11</td><td>48.79</td><td>39</td><td>7</td></tr><tr><td>129</td><td>80.68</td><td>19</td><td>8</td></tr><tr><td>225</td><td>67.15</td><td>null</td><td>9</td></tr><tr><td>64</td><td>45.41</td><td>54</td><td>10</td></tr><tr><td>66</td><td>50.72</td><td>56</td><td>11</td></tr><tr><td>82</td><td>49.28</td><td>null</td><td>12</td></tr><tr><td>&hellip;</td><td>&hellip;</td><td>&hellip;</td><td>&hellip;</td></tr><tr><td>230</td><td>88.41</td><td>null</td><td>null</td></tr><tr><td>128</td><td>89.86</td><td>null</td><td>null</td></tr><tr><td>162</td><td>90.34</td><td>null</td><td>null</td></tr><tr><td>12</td><td>92.75</td><td>null</td><td>null</td></tr><tr><td>77</td><td>92.75</td><td>null</td><td>null</td></tr><tr><td>87</td><td>92.75</td><td>null</td><td>null</td></tr><tr><td>113</td><td>92.75</td><td>null</td><td>null</td></tr><tr><td>7</td><td>null</td><td>null</td><td>null</td></tr><tr><td>24</td><td>null</td><td>null</td><td>null</td></tr><tr><td>139</td><td>null</td><td>null</td><td>null</td></tr><tr><td>181</td><td>null</td><td>null</td><td>null</td></tr><tr><td>243</td><td>null</td><td>null</td><td>null</td></tr></tbody></table></div>"
      ],
      "text/plain": [
       "shape: (207, 4)\n",
       "┌────────────┬──────────┬─────────┬─────────┐\n",
       "│ country_id ┆ wgi_rank ┆ ef_rank ┆ ti_rank │\n",
       "│ ---        ┆ ---      ┆ ---     ┆ ---     │\n",
       "│ i64        ┆ f64      ┆ u32     ┆ u32     │\n",
       "╞════════════╪══════════╪═════════╪═════════╡\n",
       "│ 44         ┆ 79.71    ┆ 48      ┆ 1       │\n",
       "│ 53         ┆ 85.99    ┆ 30      ┆ 2       │\n",
       "│ 69         ┆ 87.92    ┆ 12      ┆ 3       │\n",
       "│ 111        ┆ 66.67    ┆ 69      ┆ 4       │\n",
       "│ …          ┆ …        ┆ …       ┆ …       │\n",
       "│ 24         ┆ null     ┆ null    ┆ null    │\n",
       "│ 139        ┆ null     ┆ null    ┆ null    │\n",
       "│ 181        ┆ null     ┆ null    ┆ null    │\n",
       "│ 243        ┆ null     ┆ null    ┆ null    │\n",
       "└────────────┴──────────┴─────────┴─────────┘"
      ]
     },
     "execution_count": 62,
     "metadata": {},
     "output_type": "execute_result"
    }
   ],
   "source": [
    "df = (\n",
    "    wgi_rank.join(ef_rank, on=\"country_id\", how=\"left\")\n",
    "    .join(ti_rank, on=\"country_id\", how=\"left\")\n",
    ")\n",
    "\n",
    "df.sort(by=[ \"ti_rank\", \"ef_rank\", \"wgi_rank\"], nulls_last=True)"
   ]
  }
 ],
 "metadata": {
  "kernelspec": {
   "display_name": ".venv",
   "language": "python",
   "name": "python3"
  },
  "language_info": {
   "codemirror_mode": {
    "name": "ipython",
    "version": 3
   },
   "file_extension": ".py",
   "mimetype": "text/x-python",
   "name": "python",
   "nbconvert_exporter": "python",
   "pygments_lexer": "ipython3",
   "version": "3.11.4"
  }
 },
 "nbformat": 4,
 "nbformat_minor": 2
}
