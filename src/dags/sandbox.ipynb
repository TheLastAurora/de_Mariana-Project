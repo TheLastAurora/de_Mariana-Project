{
 "cells": [
  {
   "cell_type": "markdown",
   "metadata": {},
   "source": [
    "# Ranking for property"
   ]
  },
  {
   "cell_type": "code",
   "execution_count": 66,
   "metadata": {},
   "outputs": [],
   "source": [
    "import sys\n",
    "sys.path.append(\"../repository/\")\n",
    "import database as db\n",
    "import polars as pl"
   ]
  },
  {
   "cell_type": "code",
   "execution_count": 67,
   "metadata": {},
   "outputs": [],
   "source": [
    "conn_wgi = db.DatabaseConnection(\"world-governance-index\").connection\n",
    "conn_ti = db.DatabaseConnection(\"transformation-index\").connection\n",
    "conn_ef = db.DatabaseConnection(\"economic-freedom\").connection\n",
    "conn_db = db.DatabaseConnection(\"doing-bussiness\").connection\n",
    "\n",
    "\n"
   ]
  },
  {
   "cell_type": "code",
   "execution_count": 68,
   "metadata": {},
   "outputs": [],
   "source": [
    "db_rank_registering_property = pl.read_database(\n",
    "        query=\"\"\"\n",
    "        SELECT country_id, rank_registering_property\n",
    "        FROM \"freedom\"\n",
    "        WHERE YEAR = 2020\n",
    "        ORDER BY rank_registering_property\n",
    "        \"\"\",\n",
    "        connection=conn_db,\n",
    "    )\n",
    "\n",
    "ef_property_rights = pl.read_database(\n",
    "        query=\"\"\"\n",
    "        SELECT country_id, real_property, property_rights\n",
    "        FROM \"freedom\"\n",
    "        WHERE YEAR = 2020\n",
    "        ORDER BY country_id\n",
    "        \"\"\",\n",
    "        connection=conn_ef,\n",
    "    )\n",
    "\n",
    "ti_property_rights = pl.read_database(\n",
    "        query=\"\"\"\n",
    "        SELECT country_id, property_rights, private_property\n",
    "        FROM \"freedom\"\n",
    "        WHERE YEAR = 2020\n",
    "        ORDER BY country_id\n",
    "        \"\"\",\n",
    "        connection=conn_ti,\n",
    "    )\n",
    "\n",
    "ef_weights = [1.5, 1.0]\n",
    "ti_weights = [0.5, 0.5]\n",
    "db_weight = 3.5\n",
    "\n"
   ]
  },
  {
   "cell_type": "code",
   "execution_count": 69,
   "metadata": {},
   "outputs": [],
   "source": [
    "ef_property_rights = ef_property_rights.with_columns(\n",
    "    pl.fold(\n",
    "        acc=pl.lit(0),\n",
    "        function=lambda c1, c2: c1 + c2,\n",
    "        exprs=[\n",
    "            pl.col(col) * pl.lit(wgt)\n",
    "            for col, wgt in zip(ef_property_rights.columns[1:], ef_weights)\n",
    "        ],\n",
    "    ).alias(\"score\")\n",
    ").sort(by=\"score\", descending=True)\n",
    "\n",
    "ef_property_rights = ef_property_rights.with_columns(\n",
    "    ef_rank=ef_property_rights[\"score\"].rank(\"ordinal\", descending=True)\n",
    ").select(pl.col([\"country_id\", \"ef_rank\"]))\n",
    "\n",
    "\n",
    "ti_property_rights = ti_property_rights.with_columns(\n",
    "    pl.sum_horizontal(pl.exclude(\"country_id\")).rank(\"ordinal\").alias(\"ti_rank\")\n",
    ").select(pl.col([\"country_id\", \"ti_rank\"]))\n",
    "\n",
    "\n",
    "db_rank_registering_property = db_rank_registering_property.rename(\n",
    "    {\"rank_registering_property\": \"db_rank\"}\n",
    ")\n",
    "\n",
    "\n",
    "df = db_rank_registering_property.join(\n",
    "    ef_property_rights, how=\"left\", on=\"country_id\"\n",
    ").join(ti_property_rights, how=\"left\", on=\"country_id\")"
   ]
  },
  {
   "cell_type": "code",
   "execution_count": 70,
   "metadata": {},
   "outputs": [
    {
     "data": {
      "text/html": [
       "<div><style>\n",
       ".dataframe > thead > tr,\n",
       ".dataframe > tbody > tr {\n",
       "  text-align: right;\n",
       "  white-space: pre-wrap;\n",
       "}\n",
       "</style>\n",
       "<small>shape: (186, 4)</small><table border=\"1\" class=\"dataframe\"><thead><tr><th>country_id</th><th>db_rank</th><th>ef_rank</th><th>ti_rank</th></tr><tr><td>i64</td><td>i64</td><td>u32</td><td>u32</td></tr></thead><tbody><tr><td>215</td><td>18</td><td>1</td><td>null</td></tr><tr><td>158</td><td>2</td><td>2</td><td>null</td></tr><tr><td>60</td><td>11</td><td>3</td><td>null</td></tr><tr><td>69</td><td>6</td><td>4</td><td>117</td></tr><tr><td>200</td><td>21</td><td>5</td><td>113</td></tr><tr><td>166</td><td>15</td><td>6</td><td>null</td></tr><tr><td>195</td><td>19</td><td>7</td><td>68</td></tr><tr><td>233</td><td>10</td><td>8</td><td>75</td></tr><tr><td>44</td><td>63</td><td>9</td><td>116</td></tr><tr><td>102</td><td>16</td><td>10</td><td>null</td></tr><tr><td>235</td><td>null</td><td>11</td><td>null</td></tr><tr><td>40</td><td>36</td><td>12</td><td>null</td></tr><tr><td>&hellip;</td><td>&hellip;</td><td>&hellip;</td><td>&hellip;</td></tr><tr><td>68</td><td>178</td><td>null</td><td>8</td></tr><tr><td>62</td><td>179</td><td>null</td><td>null</td></tr><tr><td>126</td><td>180</td><td>null</td><td>78</td></tr><tr><td>16</td><td>181</td><td>null</td><td>null</td></tr><tr><td>96</td><td>182</td><td>null</td><td>27</td></tr><tr><td>187</td><td>185</td><td>null</td><td>null</td></tr><tr><td>0</td><td>186</td><td>null</td><td>10</td></tr><tr><td>127</td><td>187</td><td>null</td><td>3</td></tr><tr><td>138</td><td>187</td><td>null</td><td>null</td></tr><tr><td>144</td><td>187</td><td>null</td><td>null</td></tr><tr><td>161</td><td>null</td><td>null</td><td>35</td></tr><tr><td>128</td><td>null</td><td>null</td><td>null</td></tr></tbody></table></div>"
      ],
      "text/plain": [
       "shape: (186, 4)\n",
       "┌────────────┬─────────┬─────────┬─────────┐\n",
       "│ country_id ┆ db_rank ┆ ef_rank ┆ ti_rank │\n",
       "│ ---        ┆ ---     ┆ ---     ┆ ---     │\n",
       "│ i64        ┆ i64     ┆ u32     ┆ u32     │\n",
       "╞════════════╪═════════╪═════════╪═════════╡\n",
       "│ 215        ┆ 18      ┆ 1       ┆ null    │\n",
       "│ 158        ┆ 2       ┆ 2       ┆ null    │\n",
       "│ 60         ┆ 11      ┆ 3       ┆ null    │\n",
       "│ 69         ┆ 6       ┆ 4       ┆ 117     │\n",
       "│ …          ┆ …       ┆ …       ┆ …       │\n",
       "│ 138        ┆ 187     ┆ null    ┆ null    │\n",
       "│ 144        ┆ 187     ┆ null    ┆ null    │\n",
       "│ 161        ┆ null    ┆ null    ┆ 35      │\n",
       "│ 128        ┆ null    ┆ null    ┆ null    │\n",
       "└────────────┴─────────┴─────────┴─────────┘"
      ]
     },
     "execution_count": 70,
     "metadata": {},
     "output_type": "execute_result"
    }
   ],
   "source": [
    "df.sort(by=[\"ef_rank\", \"db_rank\", \"ti_rank\"], descending=False, nulls_last=True)"
   ]
  }
 ],
 "metadata": {
  "kernelspec": {
   "display_name": ".venv",
   "language": "python",
   "name": "python3"
  },
  "language_info": {
   "codemirror_mode": {
    "name": "ipython",
    "version": 3
   },
   "file_extension": ".py",
   "mimetype": "text/x-python",
   "name": "python",
   "nbconvert_exporter": "python",
   "pygments_lexer": "ipython3",
   "version": "3.11.4"
  }
 },
 "nbformat": 4,
 "nbformat_minor": 2
}
