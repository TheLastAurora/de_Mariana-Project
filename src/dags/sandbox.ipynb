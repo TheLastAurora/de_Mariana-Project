{
 "cells": [
  {
   "cell_type": "markdown",
   "metadata": {},
   "source": [
    "# Ranking for property"
   ]
  },
  {
   "cell_type": "code",
   "execution_count": 1,
   "metadata": {},
   "outputs": [],
   "source": [
    "import sys\n",
    "sys.path.append(\"../repository/\")\n",
    "import database as db\n",
    "import polars as pl\n",
    "from math import floor"
   ]
  },
  {
   "cell_type": "code",
   "execution_count": 2,
   "metadata": {},
   "outputs": [],
   "source": [
    "conn_wgi = db.DatabaseConnection(\"world-governance-index\").connection\n",
    "conn_ti = db.DatabaseConnection(\"transformation-index\").connection\n",
    "conn_ef = db.DatabaseConnection(\"economic-freedom\").connection\n",
    "conn_db = db.DatabaseConnection(\"doing-bussiness\").connection"
   ]
  },
  {
   "cell_type": "code",
   "execution_count": 3,
   "metadata": {},
   "outputs": [],
   "source": [
    "ti_civil_rights = pl.read_database(\n",
    "    query=\"\"\"\n",
    "    SELECT country_id, year, civil_rights \n",
    "    FROM \"freedom\" \n",
    "    ORDER BY country_id\n",
    "    \"\"\",\n",
    "    connection=conn_ti,\n",
    ")"
   ]
  },
  {
   "cell_type": "code",
   "execution_count": 11,
   "metadata": {},
   "outputs": [
    {
     "data": {
      "text/html": [
       "<div><style>\n",
       ".dataframe > thead > tr,\n",
       ".dataframe > tbody > tr {\n",
       "  text-align: right;\n",
       "  white-space: pre-wrap;\n",
       "}\n",
       "</style>\n",
       "<small>shape: (7, 2)</small><table border=\"1\" class=\"dataframe\"><thead><tr><th>year</th><th>civil_rights</th></tr><tr><td>i64</td><td>f64</td></tr></thead><tbody><tr><td>2010</td><td>5.747748</td></tr><tr><td>2012</td><td>5.666667</td></tr><tr><td>2014</td><td>5.508929</td></tr><tr><td>2016</td><td>5.339286</td></tr><tr><td>2018</td><td>5.232143</td></tr><tr><td>2020</td><td>5.183333</td></tr><tr><td>2022</td><td>4.975</td></tr></tbody></table></div>"
      ],
      "text/plain": [
       "shape: (7, 2)\n",
       "┌──────┬──────────────┐\n",
       "│ year ┆ civil_rights │\n",
       "│ ---  ┆ ---          │\n",
       "│ i64  ┆ f64          │\n",
       "╞══════╪══════════════╡\n",
       "│ 2010 ┆ 5.747748     │\n",
       "│ 2012 ┆ 5.666667     │\n",
       "│ 2014 ┆ 5.508929     │\n",
       "│ 2016 ┆ 5.339286     │\n",
       "│ 2018 ┆ 5.232143     │\n",
       "│ 2020 ┆ 5.183333     │\n",
       "│ 2022 ┆ 4.975        │\n",
       "└──────┴──────────────┘"
      ]
     },
     "execution_count": 11,
     "metadata": {},
     "output_type": "execute_result"
    }
   ],
   "source": []
  }
 ],
 "metadata": {
  "kernelspec": {
   "display_name": ".venv",
   "language": "python",
   "name": "python3"
  },
  "language_info": {
   "codemirror_mode": {
    "name": "ipython",
    "version": 3
   },
   "file_extension": ".py",
   "mimetype": "text/x-python",
   "name": "python",
   "nbconvert_exporter": "python",
   "pygments_lexer": "ipython3",
   "version": "3.11.6"
  }
 },
 "nbformat": 4,
 "nbformat_minor": 2
}
