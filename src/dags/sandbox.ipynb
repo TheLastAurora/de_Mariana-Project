{
 "cells": [
  {
   "cell_type": "markdown",
   "metadata": {},
   "source": [
    "# Ranking for property"
   ]
  },
  {
   "cell_type": "code",
   "execution_count": 187,
   "metadata": {},
   "outputs": [],
   "source": [
    "import sys\n",
    "sys.path.append(\"../repository/\")\n",
    "import database as db\n",
    "import polars as pl\n",
    "from math import floor"
   ]
  },
  {
   "cell_type": "code",
   "execution_count": 188,
   "metadata": {},
   "outputs": [],
   "source": [
    "conn_wgi = db.DatabaseConnection(\"world-governance-index\").connection\n",
    "conn_ti = db.DatabaseConnection(\"transformation-index\").connection\n",
    "conn_ef = db.DatabaseConnection(\"economic-freedom\").connection\n",
    "conn_db = db.DatabaseConnection(\"doing-bussiness\").connection\n",
    "\n",
    "\n"
   ]
  },
  {
   "cell_type": "code",
   "execution_count": 189,
   "metadata": {},
   "outputs": [],
   "source": [
    "db_rank_registering_property = pl.read_database(\n",
    "        query=\"\"\"\n",
    "        SELECT country_id, rank_registering_property\n",
    "        FROM \"freedom\"\n",
    "        WHERE YEAR = 2020\n",
    "        ORDER BY rank_registering_property\n",
    "        \"\"\",\n",
    "        connection=conn_db,\n",
    "    )\n",
    "\n",
    "ef_property_rights = pl.read_database(\n",
    "        query=\"\"\"\n",
    "        SELECT country_id, real_property, property_rights\n",
    "        FROM \"freedom\"\n",
    "        WHERE YEAR = 2020\n",
    "        ORDER BY country_id\n",
    "        \"\"\",\n",
    "        connection=conn_ef,\n",
    "    )\n",
    "\n",
    "ti_property_rights = pl.read_database(\n",
    "        query=\"\"\"\n",
    "        SELECT country_id, property_rights, private_property\n",
    "        FROM \"freedom\"\n",
    "        WHERE YEAR = 2020\n",
    "        ORDER BY country_id\n",
    "        \"\"\",\n",
    "        connection=conn_ti,\n",
    "    )\n",
    "\n",
    "ef_weights = [1.5, 1.0]\n",
    "ti_weights = [0.5, 0.5]\n",
    "db_weight = 3.5\n",
    "\n"
   ]
  },
  {
   "cell_type": "code",
   "execution_count": 190,
   "metadata": {},
   "outputs": [],
   "source": [
    "ef_property_rights = ef_property_rights.with_columns(\n",
    "    pl.fold(\n",
    "        acc=pl.lit(0),\n",
    "        function=lambda c1, c2: c1 + c2,\n",
    "        exprs=[\n",
    "            pl.col(col) * pl.lit(wgt)\n",
    "            for col, wgt in zip(ef_property_rights.columns[1:], ef_weights)\n",
    "        ],\n",
    "    ).alias(\"score\")\n",
    ").sort(by=\"score\", descending=True)\n",
    "\n",
    "ef_property_rights = ef_property_rights.with_columns(\n",
    "    ef_rank=ef_property_rights[\"score\"].rank(\"ordinal\", descending=True)\n",
    ").select(pl.col([\"country_id\", \"ef_rank\"]))\n",
    "\n",
    "\n",
    "ti_property_rights = ti_property_rights.with_columns(\n",
    "    pl.sum_horizontal(pl.exclude(\"country_id\")).rank(\"ordinal\").alias(\"ti_rank\")\n",
    ").select(pl.col([\"country_id\", \"ti_rank\"]))\n",
    "\n",
    "\n",
    "db_rank_registering_property = db_rank_registering_property.rename(\n",
    "    {\"rank_registering_property\": \"db_rank\"}\n",
    ")\n",
    "\n",
    "\n",
    "df = db_rank_registering_property.join(\n",
    "    ef_property_rights, how=\"left\", on=\"country_id\"\n",
    ").join(ti_property_rights, how=\"left\", on=\"country_id\")\n",
    "df = df.sort(by=[\"ef_rank\", \"db_rank\", \"ti_rank\"], descending=False, nulls_last=True)"
   ]
  },
  {
   "cell_type": "code",
   "execution_count": 191,
   "metadata": {},
   "outputs": [
    {
     "name": "stderr",
     "output_type": "stream",
     "text": [
      "<>:5: SyntaxWarning: \"is\" with a literal. Did you mean \"==\"?\n",
      "<>:5: SyntaxWarning: \"is\" with a literal. Did you mean \"==\"?\n",
      "/tmp/ipykernel_3100/3714414455.py:5: SyntaxWarning: \"is\" with a literal. Did you mean \"==\"?\n",
      "  ranking / len(df) * 100 if status is \"best\" else 100 - ranking / len(df) * 100\n"
     ]
    },
    {
     "data": {
      "text/plain": [
       "''"
      ]
     },
     "execution_count": 191,
     "metadata": {},
     "output_type": "execute_result"
    }
   ],
   "source": [
    "try:\n",
    "    ranking = df.select(pl.arg_where(pl.col(\"country_id\") == 85)).item()\n",
    "    status = \"best\" if ranking <= floor(len(df) / 2) else \"worst\"\n",
    "    percentage = (\n",
    "        ranking / len(df) * 100 if status is \"best\" else 100 - ranking / len(df) * 100\n",
    "    )\n",
    "    comparison = (\n",
    "        \"Among the **{:.1f}% {}** countries in safeguarding Property Rights.\".format(\n",
    "            percentage, status\n",
    "        )\n",
    "    )\n",
    "except ValueError:\n",
    "    ranking, comparison = 0, \"\"\n",
    "comparison"
   ]
  }
 ],
 "metadata": {
  "kernelspec": {
   "display_name": ".venv",
   "language": "python",
   "name": "python3"
  },
  "language_info": {
   "codemirror_mode": {
    "name": "ipython",
    "version": 3
   },
   "file_extension": ".py",
   "mimetype": "text/x-python",
   "name": "python",
   "nbconvert_exporter": "python",
   "pygments_lexer": "ipython3",
   "version": "3.11.6"
  }
 },
 "nbformat": 4,
 "nbformat_minor": 2
}
