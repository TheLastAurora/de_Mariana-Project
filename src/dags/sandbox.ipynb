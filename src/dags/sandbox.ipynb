{
 "cells": [
  {
   "cell_type": "markdown",
   "metadata": {},
   "source": [
    "# Ranking for property"
   ]
  },
  {
   "cell_type": "code",
   "execution_count": 235,
   "metadata": {},
   "outputs": [],
   "source": [
    "import sys\n",
    "sys.path.append(\"../repository/\")\n",
    "import database as db\n",
    "import polars as pl\n",
    "from math import floor"
   ]
  },
  {
   "cell_type": "code",
   "execution_count": 236,
   "metadata": {},
   "outputs": [],
   "source": [
    "conn_wgi = db.DatabaseConnection(\"world-governance-index\").connection\n",
    "conn_ti = db.DatabaseConnection(\"transformation-index\").connection\n",
    "conn_ef = db.DatabaseConnection(\"economic-freedom\").connection\n",
    "conn_db = db.DatabaseConnection(\"doing-bussiness\").connection"
   ]
  },
  {
   "cell_type": "code",
   "execution_count": 237,
   "metadata": {},
   "outputs": [],
   "source": [
    "ti_freedom_right = pl.read_database(\n",
    "    query=\"\"\"\n",
    "    SELECT country_id, no_interference_of_religious_dogmas\n",
    "    FROM freedom\n",
    "    WHERE year = 2020\n",
    "    ORDER BY country_id                                        \n",
    "    \"\"\",\n",
    "    connection=conn_ti,\n",
    ")\n",
    "status = {\n",
    "    (0, 3): \"NOT FREE\",\n",
    "    (3, 6): \"VERY INTOLERANT\",\n",
    "    (6, 9): \"MODERATELY FREE\",\n",
    "    (9, 10): \"MOSTLY FREE\",\n",
    "}"
   ]
  },
  {
   "cell_type": "code",
   "execution_count": 238,
   "metadata": {},
   "outputs": [
    {
     "data": {
      "text/html": [
       "<div><style>\n",
       ".dataframe > thead > tr,\n",
       ".dataframe > tbody > tr {\n",
       "  text-align: right;\n",
       "  white-space: pre-wrap;\n",
       "}\n",
       "</style>\n",
       "<small>shape: (120, 3)</small><table border=\"1\" class=\"dataframe\"><thead><tr><th>country_id</th><th>no_interference_of_religious_dogmas</th><th>status</th></tr><tr><td>i64</td><td>f64</td><td>str</td></tr></thead><tbody><tr><td>0</td><td>3.0</td><td>&quot;VERY INTOLERAN…</td></tr><tr><td>2</td><td>10.0</td><td>&quot;COMPLETELY FRE…</td></tr><tr><td>3</td><td>6.0</td><td>&quot;MODERATELY FRE…</td></tr><tr><td>6</td><td>10.0</td><td>&quot;COMPLETELY FRE…</td></tr><tr><td>10</td><td>10.0</td><td>&quot;COMPLETELY FRE…</td></tr><tr><td>11</td><td>9.0</td><td>&quot;MOSTLY FREE&quot;</td></tr><tr><td>15</td><td>9.0</td><td>&quot;MOSTLY FREE&quot;</td></tr><tr><td>17</td><td>6.0</td><td>&quot;MODERATELY FRE…</td></tr><tr><td>18</td><td>6.0</td><td>&quot;MODERATELY FRE…</td></tr><tr><td>20</td><td>9.0</td><td>&quot;MOSTLY FREE&quot;</td></tr><tr><td>23</td><td>9.0</td><td>&quot;MOSTLY FREE&quot;</td></tr><tr><td>25</td><td>7.0</td><td>&quot;MODERATELY FRE…</td></tr><tr><td>&hellip;</td><td>&hellip;</td><td>&hellip;</td></tr><tr><td>225</td><td>9.0</td><td>&quot;MOSTLY FREE&quot;</td></tr><tr><td>226</td><td>7.0</td><td>&quot;MODERATELY FRE…</td></tr><tr><td>227</td><td>5.0</td><td>&quot;VERY INTOLERAN…</td></tr><tr><td>228</td><td>9.0</td><td>&quot;MOSTLY FREE&quot;</td></tr><tr><td>231</td><td>7.0</td><td>&quot;MODERATELY FRE…</td></tr><tr><td>232</td><td>9.0</td><td>&quot;MOSTLY FREE&quot;</td></tr><tr><td>233</td><td>7.0</td><td>&quot;MODERATELY FRE…</td></tr><tr><td>237</td><td>10.0</td><td>&quot;COMPLETELY FRE…</td></tr><tr><td>238</td><td>8.0</td><td>&quot;MODERATELY FRE…</td></tr><tr><td>246</td><td>3.0</td><td>&quot;VERY INTOLERAN…</td></tr><tr><td>247</td><td>8.0</td><td>&quot;MODERATELY FRE…</td></tr><tr><td>248</td><td>9.0</td><td>&quot;MOSTLY FREE&quot;</td></tr></tbody></table></div>"
      ],
      "text/plain": [
       "shape: (120, 3)\n",
       "┌────────────┬───────────────────────────────────┬─────────────────┐\n",
       "│ country_id ┆ no_interference_of_religious_dog… ┆ status          │\n",
       "│ ---        ┆ ---                               ┆ ---             │\n",
       "│ i64        ┆ f64                               ┆ str             │\n",
       "╞════════════╪═══════════════════════════════════╪═════════════════╡\n",
       "│ 0          ┆ 3.0                               ┆ VERY INTOLERANT │\n",
       "│ 2          ┆ 10.0                              ┆ COMPLETELY FREE │\n",
       "│ 3          ┆ 6.0                               ┆ MODERATELY FREE │\n",
       "│ 6          ┆ 10.0                              ┆ COMPLETELY FREE │\n",
       "│ …          ┆ …                                 ┆ …               │\n",
       "│ 238        ┆ 8.0                               ┆ MODERATELY FREE │\n",
       "│ 246        ┆ 3.0                               ┆ VERY INTOLERANT │\n",
       "│ 247        ┆ 8.0                               ┆ MODERATELY FREE │\n",
       "│ 248        ┆ 9.0                               ┆ MOSTLY FREE     │\n",
       "└────────────┴───────────────────────────────────┴─────────────────┘"
      ]
     },
     "execution_count": 238,
     "metadata": {},
     "output_type": "execute_result"
    }
   ],
   "source": [
    "def get_status(val: float):\n",
    "    res = None\n",
    "    for k, v in status.items():\n",
    "        if val in range(*k):\n",
    "            res = v\n",
    "    return res if res else \"COMPLETELY FREE\"\n",
    "\n",
    "ti_freedom_right.with_columns(\n",
    "    status=ti_freedom_right[\"no_interference_of_religious_dogmas\"].map_elements(\n",
    "        lambda val: get_status(val)\n",
    "    )\n",
    ")"
   ]
  }
 ],
 "metadata": {
  "kernelspec": {
   "display_name": ".venv",
   "language": "python",
   "name": "python3"
  },
  "language_info": {
   "codemirror_mode": {
    "name": "ipython",
    "version": 3
   },
   "file_extension": ".py",
   "mimetype": "text/x-python",
   "name": "python",
   "nbconvert_exporter": "python",
   "pygments_lexer": "ipython3",
   "version": "3.11.4"
  }
 },
 "nbformat": 4,
 "nbformat_minor": 2
}
