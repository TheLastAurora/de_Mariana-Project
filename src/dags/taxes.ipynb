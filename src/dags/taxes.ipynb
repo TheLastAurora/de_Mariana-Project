{
 "cells": [
  {
   "cell_type": "code",
   "execution_count": 20,
   "metadata": {},
   "outputs": [],
   "source": [
    "import sys\n",
    "sys.path.append(\"../repository/\")\n",
    "import database as db\n",
    "import polars as pl"
   ]
  },
  {
   "cell_type": "code",
   "execution_count": 21,
   "metadata": {},
   "outputs": [],
   "source": [
    "conn = db.DatabaseConnection(db_name=\"economic-freedom\").connection"
   ]
  },
  {
   "cell_type": "code",
   "execution_count": 22,
   "metadata": {},
   "outputs": [],
   "source": [
    "df = pl.read_database(query=\"SELECT * FROM state_governance\", connection=conn)\n",
    "iso_codes = pl.read_database(query=\"SELECT * FROM iso_codes\", connection=conn)\n",
    "\n"
   ]
  },
  {
   "cell_type": "code",
   "execution_count": 48,
   "metadata": {},
   "outputs": [
    {
     "data": {
      "text/html": [
       "<div><style>\n",
       ".dataframe > thead > tr,\n",
       ".dataframe > tbody > tr {\n",
       "  text-align: right;\n",
       "  white-space: pre-wrap;\n",
       "}\n",
       "</style>\n",
       "<small>shape: (533, 9)</small><table border=\"1\" class=\"dataframe\"><thead><tr><th>name</th><th>year</th><th>trade_tax_revenue</th><th>top_marginal_income_tax_rate</th><th>top_marginal_income_and_payroll_tax_rate</th><th>top_marginal_tax_rate</th><th>mean_tariff_rate</th><th>tariffs</th><th>costs_of_importing_and_exporting</th></tr><tr><td>str</td><td>i64</td><td>f64</td><td>i64</td><td>i64</td><td>f64</td><td>f64</td><td>f64</td><td>f64</td></tr></thead><tbody><tr><td>&quot;Albania&quot;</td><td>2017</td><td>9.64</td><td>9</td><td>7</td><td>8.0</td><td>9.28</td><td>9.01</td><td>9.41</td></tr><tr><td>&quot;Albania&quot;</td><td>2018</td><td>9.67</td><td>9</td><td>7</td><td>8.0</td><td>9.28</td><td>9.02</td><td>9.41</td></tr><tr><td>&quot;Albania&quot;</td><td>2019</td><td>9.66</td><td>9</td><td>7</td><td>8.0</td><td>9.28</td><td>9.01</td><td>9.41</td></tr><tr><td>&quot;Albania&quot;</td><td>2020</td><td>9.57</td><td>9</td><td>7</td><td>8.0</td><td>9.28</td><td>8.98</td><td>9.41</td></tr><tr><td>&quot;Albania&quot;</td><td>2021</td><td>9.65</td><td>9</td><td>7</td><td>8.0</td><td>9.28</td><td>9.01</td><td>9.41</td></tr><tr><td>&quot;Algeria&quot;</td><td>2017</td><td>8.48</td><td>7</td><td>2</td><td>4.5</td><td>6.24</td><td>6.89</td><td>0.47</td></tr><tr><td>&quot;Algeria&quot;</td><td>2018</td><td>8.48</td><td>7</td><td>2</td><td>4.5</td><td>6.22</td><td>6.87</td><td>0.48</td></tr><tr><td>&quot;Algeria&quot;</td><td>2019</td><td>8.48</td><td>7</td><td>2</td><td>4.5</td><td>6.22</td><td>6.87</td><td>0.48</td></tr><tr><td>&quot;Algeria&quot;</td><td>2020</td><td>8.48</td><td>7</td><td>2</td><td>4.5</td><td>6.22</td><td>6.87</td><td>0.48</td></tr><tr><td>&quot;Algeria&quot;</td><td>2021</td><td>8.48</td><td>7</td><td>2</td><td>4.5</td><td>6.2</td><td>6.86</td><td>0.48</td></tr><tr><td>&quot;Angola&quot;</td><td>2017</td><td>9.24</td><td>10</td><td>9</td><td>9.5</td><td>7.72</td><td>7.07</td><td>2.51</td></tr><tr><td>&quot;Angola&quot;</td><td>2018</td><td>9.4</td><td>10</td><td>9</td><td>9.5</td><td>8.16</td><td>7.32</td><td>2.51</td></tr><tr><td>&hellip;</td><td>&hellip;</td><td>&hellip;</td><td>&hellip;</td><td>&hellip;</td><td>&hellip;</td><td>&hellip;</td><td>&hellip;</td><td>&hellip;</td></tr><tr><td>&quot;Uruguay&quot;</td><td>2020</td><td>8.62</td><td>7</td><td>6</td><td>6.5</td><td>7.94</td><td>7.81</td><td>6.57</td></tr><tr><td>&quot;Uruguay&quot;</td><td>2021</td><td>8.62</td><td>7</td><td>6</td><td>6.5</td><td>7.94</td><td>7.8</td><td>6.57</td></tr><tr><td>&quot;Zambia&quot;</td><td>2017</td><td>8.96</td><td>5</td><td>4</td><td>4.5</td><td>7.22</td><td>5.82</td><td>2.43</td></tr><tr><td>&quot;Zambia&quot;</td><td>2018</td><td>9.0</td><td>5</td><td>4</td><td>4.5</td><td>7.3</td><td>7.24</td><td>2.43</td></tr><tr><td>&quot;Zambia&quot;</td><td>2019</td><td>8.82</td><td>5</td><td>4</td><td>4.5</td><td>7.3</td><td>7.18</td><td>2.43</td></tr><tr><td>&quot;Zambia&quot;</td><td>2020</td><td>9.11</td><td>5</td><td>3</td><td>4.0</td><td>7.3</td><td>7.27</td><td>2.43</td></tr><tr><td>&quot;Zambia&quot;</td><td>2021</td><td>9.04</td><td>5</td><td>3</td><td>4.0</td><td>7.08</td><td>7.11</td><td>2.43</td></tr><tr><td>&quot;Zimbabwe&quot;</td><td>2017</td><td>8.21</td><td>4</td><td>4</td><td>4.0</td><td>6.56</td><td>5.46</td><td>1.33</td></tr><tr><td>&quot;Zimbabwe&quot;</td><td>2018</td><td>7.61</td><td>4</td><td>4</td><td>4.0</td><td>6.5</td><td>5.14</td><td>1.33</td></tr><tr><td>&quot;Zimbabwe&quot;</td><td>2019</td><td>7.61</td><td>5</td><td>5</td><td>5.0</td><td>6.5</td><td>5.14</td><td>1.33</td></tr><tr><td>&quot;Zimbabwe&quot;</td><td>2020</td><td>7.61</td><td>5</td><td>5</td><td>5.0</td><td>6.36</td><td>4.66</td><td>1.33</td></tr><tr><td>&quot;Zimbabwe&quot;</td><td>2021</td><td>7.61</td><td>4</td><td>4</td><td>4.0</td><td>6.42</td><td>5.0</td><td>1.33</td></tr></tbody></table></div>"
      ],
      "text/plain": [
       "shape: (533, 9)\n",
       "┌──────────┬──────┬─────────────┬─────────────┬───┬────────────┬────────────┬─────────┬────────────┐\n",
       "│ name     ┆ year ┆ trade_tax_r ┆ top_margina ┆ … ┆ top_margin ┆ mean_tarif ┆ tariffs ┆ costs_of_i │\n",
       "│ ---      ┆ ---  ┆ evenue      ┆ l_income_ta ┆   ┆ al_tax_rat ┆ f_rate     ┆ ---     ┆ mporting_a │\n",
       "│ str      ┆ i64  ┆ ---         ┆ x_rate      ┆   ┆ e          ┆ ---        ┆ f64     ┆ nd_exporti │\n",
       "│          ┆      ┆ f64         ┆ ---         ┆   ┆ ---        ┆ f64        ┆         ┆ ng         │\n",
       "│          ┆      ┆             ┆ i64         ┆   ┆ f64        ┆            ┆         ┆ ---        │\n",
       "│          ┆      ┆             ┆             ┆   ┆            ┆            ┆         ┆ f64        │\n",
       "╞══════════╪══════╪═════════════╪═════════════╪═══╪════════════╪════════════╪═════════╪════════════╡\n",
       "│ Albania  ┆ 2017 ┆ 9.64        ┆ 9           ┆ … ┆ 8.0        ┆ 9.28       ┆ 9.01    ┆ 9.41       │\n",
       "│ Albania  ┆ 2018 ┆ 9.67        ┆ 9           ┆ … ┆ 8.0        ┆ 9.28       ┆ 9.02    ┆ 9.41       │\n",
       "│ Albania  ┆ 2019 ┆ 9.66        ┆ 9           ┆ … ┆ 8.0        ┆ 9.28       ┆ 9.01    ┆ 9.41       │\n",
       "│ Albania  ┆ 2020 ┆ 9.57        ┆ 9           ┆ … ┆ 8.0        ┆ 9.28       ┆ 8.98    ┆ 9.41       │\n",
       "│ …        ┆ …    ┆ …           ┆ …           ┆ … ┆ …          ┆ …          ┆ …       ┆ …          │\n",
       "│ Zimbabwe ┆ 2018 ┆ 7.61        ┆ 4           ┆ … ┆ 4.0        ┆ 6.5        ┆ 5.14    ┆ 1.33       │\n",
       "│ Zimbabwe ┆ 2019 ┆ 7.61        ┆ 5           ┆ … ┆ 5.0        ┆ 6.5        ┆ 5.14    ┆ 1.33       │\n",
       "│ Zimbabwe ┆ 2020 ┆ 7.61        ┆ 5           ┆ … ┆ 5.0        ┆ 6.36       ┆ 4.66    ┆ 1.33       │\n",
       "│ Zimbabwe ┆ 2021 ┆ 7.61        ┆ 4           ┆ … ┆ 4.0        ┆ 6.42       ┆ 5.0     ┆ 1.33       │\n",
       "└──────────┴──────┴─────────────┴─────────────┴───┴────────────┴────────────┴─────────┴────────────┘"
      ]
     },
     "execution_count": 48,
     "metadata": {},
     "output_type": "execute_result"
    }
   ],
   "source": [
    "df.join(iso_codes, left_on=\"country_id\", right_on=\"id\", how=\"inner\").select(\n",
    "    pl.col(\n",
    "        [\n",
    "            \"name\",\n",
    "            \"year\",\n",
    "            \"trade_tax_revenue\",\n",
    "            \"top_marginal_income_tax_rate\",\n",
    "            \"top_marginal_income_and_payroll_tax_rate\",\n",
    "            \"top_marginal_tax_rate\",\n",
    "            \"mean_tariff_rate\",\n",
    "            \"tariffs\",\n",
    "            \"costs_of_importing_and_exporting\",\n",
    "        ]\n",
    "    ).sort_by([\"name\", \"year\"])\n",
    ")"
   ]
  }
 ],
 "metadata": {
  "kernelspec": {
   "display_name": ".venv",
   "language": "python",
   "name": "python3"
  },
  "language_info": {
   "codemirror_mode": {
    "name": "ipython",
    "version": 3
   },
   "file_extension": ".py",
   "mimetype": "text/x-python",
   "name": "python",
   "nbconvert_exporter": "python",
   "pygments_lexer": "ipython3",
   "version": "3.11.4"
  }
 },
 "nbformat": 4,
 "nbformat_minor": 2
}
