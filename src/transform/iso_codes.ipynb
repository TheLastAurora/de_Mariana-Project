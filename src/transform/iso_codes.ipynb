{
 "cells": [
  {
   "cell_type": "code",
   "execution_count": 2,
   "metadata": {},
   "outputs": [],
   "source": [
    "import sys\n",
    "sys.path.insert(0, '../repository')\n",
    "import database\n",
    "import pandas as pd\n",
    "import numpy as np\n",
    "import re\n",
    "\n",
    "\n",
    "f = open('../repository/DUMP/ISO CODE.csv', 'r')\n",
    "iso_codes = pd.read_csv(f, index_col=False)\n",
    "dbs = ['world-governance-index', 'doing-bussiness', 'transformation-index', 'economic-freedom']\n",
    "\n",
    "for db in dbs:\n",
    "    conn = database.DatabaseConnection(db_name=db).connection\n",
    "    iso_codes.to_sql('iso_codes', con=conn, if_exists='replace', index_label='id')"
   ]
  }
 ],
 "metadata": {
  "kernelspec": {
   "display_name": ".venv",
   "language": "python",
   "name": "python3"
  },
  "language_info": {
   "codemirror_mode": {
    "name": "ipython",
    "version": 3
   },
   "file_extension": ".py",
   "mimetype": "text/x-python",
   "name": "python",
   "nbconvert_exporter": "python",
   "pygments_lexer": "ipython3",
   "version": "3.11.6"
  }
 },
 "nbformat": 4,
 "nbformat_minor": 2
}
