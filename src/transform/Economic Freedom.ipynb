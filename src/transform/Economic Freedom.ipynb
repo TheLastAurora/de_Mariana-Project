{
 "cells": [
  {
   "cell_type": "markdown",
   "metadata": {},
   "source": [
    "## Loading and cleaning"
   ]
  },
  {
   "cell_type": "code",
   "execution_count": 57,
   "metadata": {},
   "outputs": [],
   "source": [
    "import pandas as pd\n",
    "import numpy as np\n",
    "import re"
   ]
  },
  {
   "cell_type": "code",
   "execution_count": 58,
   "metadata": {},
   "outputs": [],
   "source": [
    "f = open('../repository/RAW/FI - Economic Freedom.csv', mode='r', encoding='utf-8')\n",
    "df = pd.read_csv(f, sep=';', index_col=False, decimal=',')\n",
    "df = df.dropna(axis=0).convert_dtypes()"
   ]
  },
  {
   "cell_type": "code",
   "execution_count": 59,
   "metadata": {},
   "outputs": [],
   "source": [
    "ptrn = re.compile(r'^\\d\\w+\\s') # Removing prefixes\n",
    "rm_prefix = lambda x: ptrn.sub('', x).strip()\n",
    "df = df.rename(rm_prefix, axis='columns')"
   ]
  },
  {
   "cell_type": "code",
   "execution_count": 60,
   "metadata": {},
   "outputs": [
    {
     "name": "stdout",
     "output_type": "stream",
     "text": [
      "<class 'pandas.core.frame.DataFrame'>\n",
      "Index: 533 entries, 0 to 824\n",
      "Data columns (total 85 columns):\n",
      " #   Column                                                       Non-Null Count  Dtype  \n",
      "---  ------                                                       --------------  -----  \n",
      " 0   Year                                                         533 non-null    Int64  \n",
      " 1   ISO Code 2                                                   533 non-null    string \n",
      " 2   ISO Code 3                                                   533 non-null    string \n",
      " 3   Countries                                                    533 non-null    string \n",
      " 4   Economic Freedom Summary Index                               533 non-null    Float64\n",
      " 5   Rank                                                         533 non-null    Int64  \n",
      " 6   Quartile                                                     533 non-null    Int64  \n",
      " 7   Government consumption                                       533 non-null    Float64\n",
      " 8   data                                                         533 non-null    Float64\n",
      " 9   Transfers and subsidies                                      533 non-null    Float64\n",
      " 10  data.1                                                       533 non-null    Float64\n",
      " 11  Government investment                                        533 non-null    Float64\n",
      " 12  data.2                                                       533 non-null    Float64\n",
      " 13  Top marginal income tax rate                                 533 non-null    Int64  \n",
      " 14  data.3                                                       533 non-null    string \n",
      " 15  Top marginal income and payroll tax rate                     533 non-null    Int64  \n",
      " 16  data.4                                                       533 non-null    string \n",
      " 17  Top marginal tax rate                                        533 non-null    Float64\n",
      " 18  IE State ownership                                           533 non-null    Float64\n",
      " 19  1  Size of Government                                        533 non-null    Float64\n",
      " 20  Area 1 Rank                                                  533 non-null    Int64  \n",
      " 21  Judicial independence                                        533 non-null    Float64\n",
      " 22  Impartial courts                                             533 non-null    Float64\n",
      " 23  Property rights                                              533 non-null    Float64\n",
      " 24  Military interference                                        533 non-null    Float64\n",
      " 25  Legal integrity                                              533 non-null    Float64\n",
      " 26  Contracts                                                    533 non-null    Float64\n",
      " 27  Real property                                                533 non-null    Float64\n",
      " 28  Police and crime                                             533 non-null    Float64\n",
      " 29  Gender Disparity Index                                       533 non-null    Float64\n",
      " 30  2  Legal System & Property Rights -- With Gender Adjustment  533 non-null    Float64\n",
      " 31  Area 2 Rank                                                  533 non-null    Int64  \n",
      " 32  2 Legal System & Property Rights - No Gender Adjustment      533 non-null    Float64\n",
      " 33  Money growth                                                 533 non-null    Float64\n",
      " 34  data.5                                                       533 non-null    Float64\n",
      " 35  Standard deviation of inflation                              533 non-null    Float64\n",
      " 36  data.6                                                       533 non-null    Float64\n",
      " 37  Inflation                                                    533 non-null    Float64\n",
      " 38  data.7                                                       533 non-null    Float64\n",
      " 39  Foreign currency bank accounts                               533 non-null    Int64  \n",
      " 40  3  Sound Money                                               533 non-null    Float64\n",
      " 41  Area 3 Rank                                                  533 non-null    Int64  \n",
      " 42  Trade tax revenue                                            533 non-null    Float64\n",
      " 43  data.8                                                       533 non-null    Float64\n",
      " 44  Mean tariff rate                                             533 non-null    Float64\n",
      " 45  data.9                                                       533 non-null    Float64\n",
      " 46  Standard deviation of tariff rates                           533 non-null    Float64\n",
      " 47  data.10                                                      533 non-null    Float64\n",
      " 48  Tariffs                                                      533 non-null    Float64\n",
      " 49  Non-tariff trade barriers                                    533 non-null    Float64\n",
      " 50  Costs of importing and exporting                             533 non-null    Float64\n",
      " 51  Regulatory trade barriers                                    533 non-null    Float64\n",
      " 52  Black market exchange rates                                  533 non-null    Float64\n",
      " 53  Financial openness                                           533 non-null    Float64\n",
      " 54  Capital controls                                             533 non-null    Float64\n",
      " 55  Freedom of foreigners to visit                               533 non-null    Float64\n",
      " 56  Protection of Foreign Assets                                 533 non-null    Float64\n",
      " 57  Controls of the movement of capital and people               533 non-null    Float64\n",
      " 58  4  Freedom to trade internationally                          533 non-null    Float64\n",
      " 59  Area 4 Rank                                                  533 non-null    Int64  \n",
      " 60  Ownership of banks                                           533 non-null    Int64  \n",
      " 61  Private sector credit                                        533 non-null    Float64\n",
      " 62  Interest rate controls/negative real interest rates)         533 non-null    Int64  \n",
      " 63  Credit market regulation                                     533 non-null    Float64\n",
      " 64  Labor regulations and minimum wage                           533 non-null    Float64\n",
      " 65  Hiring and firing regulations                                533 non-null    Float64\n",
      " 66  Flexible wage determination                                  533 non-null    Float64\n",
      " 67  Hours Regulations                                            533 non-null    Int64  \n",
      " 68  Cost of worker dismissal                                     533 non-null    string \n",
      " 69  Conscription                                                 533 non-null    Int64  \n",
      " 70  Foreign Labor                                                533 non-null    Float64\n",
      " 71  Labor market regulations                                     533 non-null    Float64\n",
      " 72  Regulatory Burden                                            533 non-null    Float64\n",
      " 73  Bureacracy costs                                             533 non-null    Float64\n",
      " 74  Impartial Public Administration                              533 non-null    Float64\n",
      " 75  Tax compliance                                               533 non-null    Float64\n",
      " 76  Business regulations                                         533 non-null    Float64\n",
      " 77  Market openness                                              533 non-null    Float64\n",
      " 78  Business Permits                                             533 non-null    Float64\n",
      " 79  Distorton of the business environment                        533 non-null    Float64\n",
      " 80  Freedom to enter markets and compete                         533 non-null    Float64\n",
      " 81  5  Regulation                                                533 non-null    Float64\n",
      " 82  Area 5 Rank                                                  533 non-null    Int64  \n",
      " 83  World Bank Region                                            533 non-null    string \n",
      " 84  World Bank Current Income Classification, 1990-present       533 non-null    string \n",
      "dtypes: Float64(62), Int64(15), string(8)\n",
      "memory usage: 398.2 KB\n"
     ]
    }
   ],
   "source": [
    "df.info()"
   ]
  }
 ],
 "metadata": {
  "kernelspec": {
   "display_name": ".venv",
   "language": "python",
   "name": "python3"
  },
  "language_info": {
   "codemirror_mode": {
    "name": "ipython",
    "version": 3
   },
   "file_extension": ".py",
   "mimetype": "text/x-python",
   "name": "python",
   "nbconvert_exporter": "python",
   "pygments_lexer": "ipython3",
   "version": "3.11.6"
  }
 },
 "nbformat": 4,
 "nbformat_minor": 2
}
