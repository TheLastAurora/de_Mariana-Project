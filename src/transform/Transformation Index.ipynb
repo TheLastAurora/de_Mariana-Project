{
 "cells": [
  {
   "cell_type": "markdown",
   "metadata": {},
   "source": [
    "## Loading and cleaning"
   ]
  },
  {
   "cell_type": "code",
   "execution_count": 14,
   "metadata": {},
   "outputs": [],
   "source": [
    "import sys\n",
    "sys.path.insert(0, '../repository')"
   ]
  },
  {
   "cell_type": "code",
   "execution_count": 15,
   "metadata": {},
   "outputs": [],
   "source": [
    "import database\n",
    "import pandas as pd\n",
    "import numpy as np\n",
    "import glob\n",
    "import re\n",
    "\n",
    "pd.set_option('display.max_info_columns', 200)"
   ]
  },
  {
   "cell_type": "code",
   "execution_count": 16,
   "metadata": {},
   "outputs": [],
   "source": [
    "conn = database.DatabaseConnection(db_name='transformation-index').connection"
   ]
  },
  {
   "cell_type": "code",
   "execution_count": 17,
   "metadata": {},
   "outputs": [],
   "source": [
    "# Reading the iso codes.\n",
    "f = open('../repository/DUMP/ISO CODE.csv', 'r')\n",
    "iso_codes = pd.read_csv(f)\n",
    "files = [f for f in glob.glob(\"../repository/RAW/BTI*\")]\n",
    "dfs = []\n",
    "for i, f in enumerate(files):\n",
    "    year = re.search(\"(\\d{4})\", f).group(0)\n",
    "    with open(f, mode=\"r\", encoding=\"utf-8\"):\n",
    "        _df = pd.read_csv(f, sep=\";\", index_col=False, decimal=',')\n",
    "        regions = {\n",
    "            k.strip(): v.strip()\n",
    "            for k, v in [el.split(\"|\") for el in _df.columns[0].split(\"\\n\")[1:]]\n",
    "        }\n",
    "        _df = _df.rename(str.strip, axis=\"columns\")\n",
    "        _df = _df.dropna(axis=1, how=\"all\")\n",
    "        _df[\"Region\"] = _df[\"Region\"].astype(str)\n",
    "        _df[\"Region\"] = _df[\"Region\"].replace(regions)\n",
    "        _df = _df.rename({_df.columns[0]: \"Country\"}, axis=\"columns\")\n",
    "        _df[\"Year\"] = year\n",
    "        _df = _df.replace(['-', '?'], np.nan)\n",
    "        _df = _df.convert_dtypes()\n",
    "        _df = _df[[*_df.columns[:2], \"Year\", *_df.columns[2:]]] # Reorder Year column\n",
    "        _df = _df.loc[:,~_df.columns.duplicated()].copy() # type: ignore # Remove Year duplicates\n",
    "        to_drop = []\n",
    "        ptrn = re.compile('Trend.*')\n",
    "        for i, col in enumerate(_df.columns):\n",
    "            is_rm = re.match(ptrn, col)\n",
    "            if is_rm:\n",
    "                to_drop.append(i + 1) \n",
    "            try:\n",
    "                _df[col] = _df[col].str.replace(',', '.').astype(float)\n",
    "                try:\n",
    "                    _df[col] = _df[col].astype(int)\n",
    "                except ValueError:\n",
    "                    pass\n",
    "            except (ValueError, AttributeError):\n",
    "                continue\n",
    "        _df = _df.drop([_df.columns[i] for i in to_drop], axis=1) # Remove trending arrows\n",
    "        dfs.append(_df)"
   ]
  },
  {
   "cell_type": "code",
   "execution_count": 18,
   "metadata": {},
   "outputs": [],
   "source": [
    "ptrn = re.compile(r'^\\w+.*\\|\\s') # Removing prefixes, such as 'Q1 | Stateness' or 'Q1.1 | Monopoly on the use of force'\n",
    "rm_prefix = lambda x: ptrn.sub('', x).strip()\n",
    "cols = dfs[1].rename(rm_prefix, axis='columns').columns\n",
    "for df in dfs[1:]:\n",
    "    df.columns = cols\n",
    "df = pd.concat([*dfs[1:]])\n"
   ]
  },
  {
   "cell_type": "code",
   "execution_count": 19,
   "metadata": {},
   "outputs": [],
   "source": [
    "same_col_name = lambda c: re.search(\n",
    "    r\"\\s\\w+\\.\\d\", c\n",
    ")  # Columns like 'Status Index.1', or 'Governance Index.1'\n",
    "ptrn = re.compile(r\"\\.\\d$\")  # The '.1' at the end of the column name\n",
    "for i, col in enumerate(df.columns):\n",
    "    mtch = same_col_name(col)\n",
    "    if mtch:\n",
    "        df = df.rename(\n",
    "            {\n",
    "                df[col].name: ptrn.sub(\" Score\", df[col].name),\n",
    "                df[df.columns[i + 1]].name: ptrn.sub(\" Category\", df[col].name),\n",
    "                df[df.columns[i + 2]].name: ptrn.sub(\" Status\", df[col].name),\n",
    "            },\n",
    "            axis=\"columns\",\n",
    "        )"
   ]
  },
  {
   "cell_type": "markdown",
   "metadata": {},
   "source": [
    "## Spliting"
   ]
  },
  {
   "cell_type": "code",
   "execution_count": 20,
   "metadata": {},
   "outputs": [],
   "source": [
    "f = open('../repository/DUMP/ISO CODE.csv', 'r')\n",
    "iso_codes = pd.read_csv(f)\n",
    "iso_codes['id'] = pd.Series(range(len(iso_codes)), name='id')"
   ]
  },
  {
   "cell_type": "code",
   "execution_count": 21,
   "metadata": {},
   "outputs": [],
   "source": [
    "df = df.merge(iso_codes.iloc[:, [-1, 0, 2]], left_on=\"Country\", right_on=\"name\")\n",
    "df = df.drop(axis=1, columns=[\"Country\", \"name\", \"alpha-3\", \"Region\"])\n",
    "df = df.rename(columns={\"id\": \"country_id\"})\n",
    "df = df[[\"country_id\", \"Year\", *df.columns]]\n",
    "df = df.loc[:, ~df.columns.duplicated()].copy()"
   ]
  },
  {
   "cell_type": "code",
   "execution_count": 22,
   "metadata": {},
   "outputs": [],
   "source": [
    "gov_col = [\n",
    "    \"Free and fair elections\",\n",
    "    \"Effective power to govern\",\n",
    "    \"Separation of powers\",\n",
    "    \"Independent judiciary\",\n",
    "    \"Prosecution of office abuse\",\n",
    "    \"Performance of democratic institutions\",\n",
    "    \"Commitment to democratic institutions\",\n",
    "    \"Level of Socioeconomic Development\",\n",
    "    \"Socioeconomic barriers\",\n",
    "    \"Monetary stability\",\n",
    "    \"Fiscal stability\",\n",
    "    \"Welfare Regime\",\n",
    "    \"Social safety nets\",\n",
    "    \"Equal opportunity\",\n",
    "    \"Economic Performance\",\n",
    "    \"Output strength\",\n",
    "    \"Sustainability\",\n",
    "    \"Environmental policy\",\n",
    "    \"Education / R&D policy\",\n",
    "    \"Level of Difficulty\",\n",
    "    \"Structural constraints\",\n",
    "    \"Conflict intensity\",\n",
    "    \"GNI p.c. Atlas method rescaled\",\n",
    "    \"UN Educ. Index rescaled\",\n",
    "    \"BTI Stateness & Rule of Law\",\n",
    "    \"Steering Capability\",\n",
    "    \"Prioritization\",\n",
    "    \"Implementation\",\n",
    "    \"Policy learning\",\n",
    "    \"Resource Efficiency\",\n",
    "    \"Efficient use of assets\",\n",
    "    \"Policy coordination\",\n",
    "    \"Anti-corruption policy\",\n",
    "    \"Consensus-Building\",\n",
    "    \"Consensus on goals\",\n",
    "    \"Anti-democratic actors\",\n",
    "    \"Cleavage / conflict management\",\n",
    "    \"Civil society participation\",\n",
    "    \"Reconciliation\",\n",
    "    \"International Cooperation\",\n",
    "    \"Effective use of support\",\n",
    "    \"Credibility\",\n",
    "    \"Regional cooperation\",\n",
    "]\n",
    "\n",
    "sg_col = df.columns.difference(gov_col, sort=False)"
   ]
  },
  {
   "cell_type": "code",
   "execution_count": 23,
   "metadata": {},
   "outputs": [],
   "source": [
    "freedom = df.loc[:, ['Year', 'country_id', *gov_col]]\n",
    "freedom = freedom\n",
    "sg = df.loc[:, sg_col]\n",
    "\n",
    "freedom = freedom.rename(str.lower, axis=\"columns\")\n",
    "freedom.columns = freedom.columns.str.replace(\" \", \"_\")\n",
    "sg = sg.rename(str.lower, axis=\"columns\")\n",
    "sg.columns = sg.columns.str.replace(\" \", \"_\")"
   ]
  },
  {
   "cell_type": "code",
   "execution_count": 24,
   "metadata": {},
   "outputs": [
    {
     "data": {
      "text/plain": [
       "360"
      ]
     },
     "execution_count": 24,
     "metadata": {},
     "output_type": "execute_result"
    }
   ],
   "source": [
    "# freedom.to_csv('../repository/DUMP/Transformation Index/TI - Freedom.csv', sep=';', index=False, decimal='.')\n",
    "# sg.to_csv('../repository/DUMP/Transformation Index/TI - State Governance.csv', sep=';', index=False, decimal='.')\n",
    "freedom.to_sql('freedom', con=conn, if_exists='replace', index_label='id')\n",
    "sg.to_sql('state_governance', con=conn, if_exists='replace', index_label='id')"
   ]
  }
 ],
 "metadata": {
  "kernelspec": {
   "display_name": ".venv",
   "language": "python",
   "name": "python3"
  },
  "language_info": {
   "codemirror_mode": {
    "name": "ipython",
    "version": 3
   },
   "file_extension": ".py",
   "mimetype": "text/x-python",
   "name": "python",
   "nbconvert_exporter": "python",
   "pygments_lexer": "ipython3",
   "version": "3.11.6"
  },
  "orig_nbformat": 4
 },
 "nbformat": 4,
 "nbformat_minor": 2
}
