{
 "cells": [
  {
   "cell_type": "markdown",
   "metadata": {},
   "source": [
    "## Loading and cleaning"
   ]
  },
  {
   "cell_type": "code",
   "execution_count": 12,
   "metadata": {},
   "outputs": [],
   "source": [
    "import sys\n",
    "sys.path.insert(0, '../repository')"
   ]
  },
  {
   "cell_type": "code",
   "execution_count": 13,
   "metadata": {},
   "outputs": [],
   "source": [
    "import database\n",
    "import pandas as pd\n",
    "import numpy as np\n",
    "import glob\n",
    "import re"
   ]
  },
  {
   "cell_type": "code",
   "execution_count": 14,
   "metadata": {},
   "outputs": [],
   "source": [
    "conn = database.DatabaseConnection(db_name='doing-bussiness').connection"
   ]
  },
  {
   "cell_type": "code",
   "execution_count": 15,
   "metadata": {},
   "outputs": [],
   "source": [
    "f = open(\"../repository/DUMP/ISO CODE.csv\", \"r\")\n",
    "iso_codes = pd.read_csv(f)\n",
    "iso_codes['id'] = pd.Series(range(len(iso_codes)), name='id')\n",
    "\n",
    "f = open(\"../repository/RAW/WB - Doing Business.csv\", mode=\"r\", encoding=\"utf-8\")\n",
    "df = pd.read_csv(f, sep=\";\", index_col=False)\n",
    "df = df.dropna(how=\"all\").convert_dtypes()"
   ]
  },
  {
   "cell_type": "code",
   "execution_count": 16,
   "metadata": {},
   "outputs": [],
   "source": [
    "df.columns = [re.sub(r\"\\(.*\\)|'\", \"\", c).strip() for c in df.columns]\n",
    "df.columns = [re.sub(r\"-| \", \"_\", c).lower() for c in df.columns]"
   ]
  },
  {
   "cell_type": "code",
   "execution_count": 17,
   "metadata": {},
   "outputs": [],
   "source": [
    "df = df.merge(iso_codes.iloc[:, [-1, 0, 2]], left_on=\"country_code\", right_on=\"alpha-3\")\n",
    "df = df.drop(axis=1, columns=[\"economy\", \"name\", \"alpha-3\", \"region\"])\n",
    "df = df.rename(columns={\"id\": \"country_id\", \"db_year\": \"year\"})\n",
    "df = df[[\"country_id\", \"year\", *df.columns]]\n",
    "df = df.drop(columns=[\"country_code\"])\n",
    "df = df.loc[:, ~df.columns.duplicated()].copy()\n"
   ]
  },
  {
   "cell_type": "code",
   "execution_count": 18,
   "metadata": {},
   "outputs": [
    {
     "data": {
      "text/plain": [
       "59"
      ]
     },
     "execution_count": 18,
     "metadata": {},
     "output_type": "execute_result"
    }
   ],
   "source": [
    "# df.to_csv('../repository/DUMP/Doing Business/DB - Freedom.csv', sep=';', index=False, decimal='.')\n",
    "df.to_sql('freedom', con=conn, if_exists='replace', index_label='id')"
   ]
  }
 ],
 "metadata": {
  "kernelspec": {
   "display_name": ".venv",
   "language": "python",
   "name": "python3"
  },
  "language_info": {
   "codemirror_mode": {
    "name": "ipython",
    "version": 3
   },
   "file_extension": ".py",
   "mimetype": "text/x-python",
   "name": "python",
   "nbconvert_exporter": "python",
   "pygments_lexer": "ipython3",
   "version": "3.11.6"
  }
 },
 "nbformat": 4,
 "nbformat_minor": 2
}
