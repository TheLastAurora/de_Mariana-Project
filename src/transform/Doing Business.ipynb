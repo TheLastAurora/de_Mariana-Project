{
 "cells": [
  {
   "cell_type": "markdown",
   "metadata": {},
   "source": [
    "## Loading and cleaning"
   ]
  },
  {
   "cell_type": "code",
   "execution_count": 10,
   "metadata": {},
   "outputs": [],
   "source": [
    "import sys\n",
    "sys.path.insert(0, '../repository')"
   ]
  },
  {
   "cell_type": "code",
   "execution_count": 11,
   "metadata": {},
   "outputs": [],
   "source": [
    "import database\n",
    "import pandas as pd\n",
    "import numpy as np\n",
    "import glob\n",
    "import re"
   ]
  },
  {
   "cell_type": "code",
   "execution_count": 12,
   "metadata": {},
   "outputs": [],
   "source": [
    "conn = database.DatabaseConnection(db_name='doing-bussiness').connection"
   ]
  },
  {
   "cell_type": "code",
   "execution_count": 13,
   "metadata": {},
   "outputs": [],
   "source": [
    "f = open(\"../repository/DUMP/ISO CODE.csv\", \"r\")\n",
    "iso_codes = pd.read_csv(f)\n",
    "iso_codes['id'] = pd.Series(range(len(iso_codes)), name='id')\n",
    "\n",
    "f = open(\"../repository/RAW/WB - Doing Business.csv\", mode=\"r\", encoding=\"utf-8\")\n",
    "df = pd.read_csv(f, sep=\";\", index_col=False)\n",
    "df = df.dropna(how=\"all\").convert_dtypes()"
   ]
  },
  {
   "cell_type": "code",
   "execution_count": 14,
   "metadata": {},
   "outputs": [],
   "source": [
    "df.columns = [re.sub(r\"\\(.*\\)|'\", \"\", c).strip() for c in df.columns]\n",
    "df.columns = [re.sub(r\"-| \", \"_\", c).lower() for c in df.columns]"
   ]
  },
  {
   "cell_type": "code",
   "execution_count": 15,
   "metadata": {},
   "outputs": [
    {
     "data": {
      "text/plain": [
       "['country_id',\n",
       " 'year',\n",
       " 'income_group',\n",
       " 'ease_of_doing_business_rank',\n",
       " 'ease_of_doing_business_score',\n",
       " 'rank_starting_a_business',\n",
       " 'score_starting_a_business',\n",
       " 'procedures___men',\n",
       " 'score_procedures___men',\n",
       " 'time___men',\n",
       " 'score_time___men',\n",
       " 'cost___men',\n",
       " 'score_cost___men',\n",
       " 'procedures___women',\n",
       " 'score_procedures___women',\n",
       " 'time___women',\n",
       " 'score_time___women',\n",
       " 'cost___women',\n",
       " 'score_cost___women',\n",
       " 'paid_in_minimum_capital',\n",
       " 'score_paid_in_minimum_capital',\n",
       " 'rank_dealing_with_construction_permits',\n",
       " 'score_dealing_with_construction_permits',\n",
       " 'procedures',\n",
       " 'score_procedures',\n",
       " 'time',\n",
       " 'score_time',\n",
       " 'cost',\n",
       " 'score_cost',\n",
       " 'building_quality_control_index',\n",
       " 'score_building_quality_control_index',\n",
       " 'quality_of_building_regulations_index',\n",
       " 'quality_control_before_construction_index',\n",
       " 'quality_control_during_construction_index',\n",
       " 'quality_control_after_construction_index',\n",
       " 'liability_and_insurance_regimes_index',\n",
       " 'professional_certifications_index',\n",
       " 'rank_getting_electricity',\n",
       " 'score_getting_electricity',\n",
       " 'procedures_.1',\n",
       " 'score_procedures_.1',\n",
       " 'time_.1',\n",
       " 'score_time_.1',\n",
       " 'reliability_of_supply_and_transparency_of_tariff_index',\n",
       " 'score_reliability_of_supply_and_transparency_of_tariff_index',\n",
       " 'total_duration_and_frequency_of_outages_per_customer_a_year',\n",
       " 'mechanisms_for_monitoring_outages',\n",
       " 'mechanisms_for_restoring_service',\n",
       " 'regulatory_monitoring',\n",
       " 'financial_deterrents_aimed_at_limiting_outages',\n",
       " 'communication_of_tariffs_and_tariff_changes',\n",
       " 'system_average_interruption_duration_index',\n",
       " 'system_average_interruption_frequency_index',\n",
       " 'minimum_outage_time',\n",
       " 'price_of_electricity',\n",
       " 'rank_registering_property',\n",
       " 'score_registering_property',\n",
       " 'procedures_.2',\n",
       " 'score_procedures_.2',\n",
       " 'time_.2',\n",
       " 'score_time_.2',\n",
       " 'quality_of_land_administration_index',\n",
       " 'score_quality_of_land_administration_index',\n",
       " 'reliability_of_infrastructure_index',\n",
       " 'transparency_of_information_index',\n",
       " 'geographic_coverage_index',\n",
       " 'land_dispute_resolution_index',\n",
       " 'equal_access_to_property_rights_index',\n",
       " 'rank_getting_credit',\n",
       " 'score_getting_credit',\n",
       " 'strength_of_legal_rights_index',\n",
       " 'score_strength_of_legal_rights_index',\n",
       " 'depth_of_credit_information_index',\n",
       " 'score_depth_of_credit_information_index',\n",
       " 'getting_credit_total_score',\n",
       " 'credit_registry_coverage',\n",
       " 'credit_bureau_coverage',\n",
       " 'rank_protecting_minority_investors',\n",
       " 'score_protecting_minority_investors',\n",
       " 'extent_of_disclosure_index',\n",
       " 'score_extent_of_disclosure_index',\n",
       " 'extent_of_director_liability_index',\n",
       " 'score_extent_of_director_liability_index',\n",
       " 'ease_of_shareholder_suits_index',\n",
       " 'score_ease_of_shareholder_suits_index',\n",
       " 'strength_of_investor_protection_index',\n",
       " 'extent_of_shareholder_rights_index',\n",
       " 'score_extent_of_shareholder_rights_index',\n",
       " 'extent_of_ownership_and_control_index',\n",
       " 'score_extent_of_ownership_and_control_index',\n",
       " 'extent_of_corporate_transparency_index',\n",
       " 'score_extent_of_corporate_transparency_index',\n",
       " 'strength_of_minority_investor_protection_index',\n",
       " 'rank_paying_taxes',\n",
       " 'score_paying_taxes',\n",
       " 'payments',\n",
       " 'score_payments',\n",
       " 'total_tax_and_contribution_rate',\n",
       " 'score_total_tax_and_contribution_rate',\n",
       " 'profit_tax',\n",
       " 'labor_tax_and_contributions',\n",
       " 'other_taxes',\n",
       " 'time_to_comply_with_vat_refund',\n",
       " 'score_time_to_comply_with_vat_refund',\n",
       " 'time_to_obtain_vat_refund',\n",
       " 'score_time_to_obtain_vat_refund',\n",
       " 'time_to_comply_with_a_corporate_income_tax_correction',\n",
       " 'score_time_to_comply_with_a_corporate_income_tax_correction',\n",
       " 'time_to_complete_a_corporate_income_tax_correction',\n",
       " 'score_time_to_complete_a_corporate_income_tax_correction',\n",
       " 'score_postfiling_index',\n",
       " 'rank_trading_across_borders',\n",
       " 'score_trading_across_borders',\n",
       " 'time_to_export:_documentary_compliance',\n",
       " 'score_time_to_export:_documentary_compliance',\n",
       " 'time_to_import:_documentary_compliance',\n",
       " 'score_time_to_import:_documentary_compliance',\n",
       " 'time_to_export:_border_compliance',\n",
       " 'score_time_to_export:_border_compliance',\n",
       " 'time_to_import:_border_compliance',\n",
       " 'score_time_to_import:_border_compliance',\n",
       " 'cost_to_export:_documentary_compliance',\n",
       " 'score_cost_to_export:_documentary_compliance',\n",
       " 'cost_to_import:_documentary_compliance',\n",
       " 'score_cost_to_import:_documentary_compliance',\n",
       " 'cost_to_export:_border_compliance',\n",
       " 'score_cost_to_export:_border_compliance',\n",
       " 'cost_to_import:_border_compliance',\n",
       " 'score_cost_to_import:_border_compliance',\n",
       " 'documents_to_export',\n",
       " 'score_documents_to_export',\n",
       " 'documents_to_import',\n",
       " 'score_documents_to_import',\n",
       " 'cost_to_export',\n",
       " 'score_cost_to_export',\n",
       " 'cost_to_import',\n",
       " 'score_cost_to_import',\n",
       " 'time_to_export',\n",
       " 'score_time_to_export',\n",
       " 'time_to_import',\n",
       " 'score_time_to_import',\n",
       " 'rank_enforcing_contracts',\n",
       " 'score_enforcing_contracts',\n",
       " 'time_.3',\n",
       " 'score_time_.3',\n",
       " 'filing_and_service',\n",
       " 'trial_and_judgment',\n",
       " 'enforcement_of_judgment',\n",
       " 'attorney_fees',\n",
       " 'court_fees',\n",
       " 'enforcement_fees',\n",
       " 'quality_of_judicial_processes_index',\n",
       " 'score_quality_of_judicial_processes_index',\n",
       " 'court_structure_and_proceedings',\n",
       " 'case_management',\n",
       " 'court_automation',\n",
       " 'alternative_dispute_resolution',\n",
       " 'rank_resolving_insolvency',\n",
       " 'score_resolving_insolvency',\n",
       " 'outcome',\n",
       " 'recovery_rate',\n",
       " 'score_recovery_rate',\n",
       " 'strength_of_insolvency_framework_index',\n",
       " 'score_strength_of_insolvency_framework_index',\n",
       " 'commencement_of_proceedings_index',\n",
       " 'management_of_debtors_assets_index',\n",
       " 'reorganization_proceedings_index',\n",
       " 'creditor_participation_index']"
      ]
     },
     "execution_count": 15,
     "metadata": {},
     "output_type": "execute_result"
    }
   ],
   "source": [
    "df = df.merge(iso_codes.iloc[:, [-1, 0, 2]], left_on=\"country_code\", right_on=\"alpha-3\")\n",
    "df = df.drop(axis=1, columns=[\"economy\", \"name\", \"alpha-3\", \"region\"])\n",
    "df = df.rename(columns={\"id\": \"country_id\", \"db_year\": \"year\"})\n",
    "df = df[[\"country_id\", \"year\", *df.columns]]\n",
    "df = df.drop(columns=[\"country_code\"])\n",
    "df = df.loc[:, ~df.columns.duplicated()].copy()\n",
    "list(df.columns)"
   ]
  },
  {
   "cell_type": "code",
   "execution_count": 16,
   "metadata": {},
   "outputs": [
    {
     "data": {
      "text/plain": [
       "59"
      ]
     },
     "execution_count": 16,
     "metadata": {},
     "output_type": "execute_result"
    }
   ],
   "source": [
    "# df.to_csv('../repository/DUMP/Doing Business/DB - Freedom.csv', sep=';', index=False, decimal='.')\n",
    "df.to_sql('freedom', con=conn, if_exists='replace', index_label='id')"
   ]
  }
 ],
 "metadata": {
  "kernelspec": {
   "display_name": ".venv",
   "language": "python",
   "name": "python3"
  },
  "language_info": {
   "codemirror_mode": {
    "name": "ipython",
    "version": 3
   },
   "file_extension": ".py",
   "mimetype": "text/x-python",
   "name": "python",
   "nbconvert_exporter": "python",
   "pygments_lexer": "ipython3",
   "version": "3.11.4"
  }
 },
 "nbformat": 4,
 "nbformat_minor": 2
}
