{
 "cells": [
  {
   "cell_type": "markdown",
   "metadata": {},
   "source": [
    "## Loading and cleaning"
   ]
  },
  {
   "cell_type": "code",
   "execution_count": 6,
   "metadata": {},
   "outputs": [],
   "source": [
    "import sys\n",
    "sys.path.insert(0, '../repository')"
   ]
  },
  {
   "cell_type": "code",
   "execution_count": 7,
   "metadata": {},
   "outputs": [],
   "source": [
    "import database\n",
    "from functools import reduce\n",
    "import pandas as pd\n",
    "import numpy as np\n",
    "import re\n",
    "import os\n",
    "import glob"
   ]
  },
  {
   "cell_type": "code",
   "execution_count": 8,
   "metadata": {},
   "outputs": [],
   "source": [
    "conn = database.DatabaseConnection(db_name='world-governance-index').connection"
   ]
  },
  {
   "cell_type": "code",
   "execution_count": 9,
   "metadata": {},
   "outputs": [],
   "source": [
    "f = open('../repository/DUMP/ISO CODE.csv', 'r')\n",
    "iso_codes = pd.read_csv(f)\n",
    "iso_codes['id'] = pd.Series(range(len(iso_codes)), name='id')"
   ]
  },
  {
   "cell_type": "code",
   "execution_count": 10,
   "metadata": {},
   "outputs": [],
   "source": [
    "files = [f for f in glob.glob(\"../repository/RAW/WGI*\")]\n",
    "dfs = {}\n",
    "for i, f in enumerate(files):\n",
    "    name = os.path.basename(f)\n",
    "    _df = pd.read_csv(f, sep=\";\", decimal=\",\")\n",
    "    ptrn = re.compile(\"\\d{4}\")\n",
    "    join_dfs = []\n",
    "    for k, d in _df.T.groupby(lambda x: re.search(ptrn, x).group() if re.search(ptrn, x) else None):  # type: ignore\n",
    "        country_code = _df.copy(deep=True)\n",
    "        country_code, country_code.columns = country_code[1:], country_code.iloc[0]\n",
    "        d = d.T\n",
    "        d, d.columns = d[1:], d.iloc[0]\n",
    "        d[\"Year\"] = k\n",
    "        d = d.assign(country_code=country_code.iloc[:, 1])\n",
    "        join_dfs.append(d)\n",
    "    _df = reduce(lambda x, y: pd.concat([x, y]), join_dfs)\n",
    "    _df = _df.merge(\n",
    "        iso_codes.iloc[:, [-1, 0, 2]], left_on=\"country_code\", right_on=\"alpha-3\"\n",
    "    )\n",
    "    _df = _df.drop(axis=1, columns=[\"country_code\", \"name\", \"alpha-3\"])\n",
    "    _df = _df.rename(columns={\"id\": \"country_id\"})\n",
    "    _df = _df[[\"country_id\", \"Year\", *_df.columns]]\n",
    "    _df = _df.loc[:, ~_df.columns.duplicated()].copy()\n",
    "    _df = _df.rename(str.lower, axis=\"columns\")\n",
    "    _df.columns = _df.columns.str.replace(\" \", \"_\")\n",
    "    _df[\"year\"] = _df[\"year\"].astype(\"int64\")\n",
    "    _df[\"rank\"] = _df[\"rank\"].str.replace(\",\", \".\").astype(\"float32\")\n",
    "    dfs.update({name: _df})"
   ]
  },
  {
   "cell_type": "code",
   "execution_count": 11,
   "metadata": {},
   "outputs": [],
   "source": [
    "sg = [re.compile(r\"Political.*Stability\"), re.compile(r\"Control.*Corruption\"), re.compile(r\"Government.*Effectiveness\")]\n",
    "for name, df in dfs.items():\n",
    "    matches = [p.search(name) for p in sg]\n",
    "    ctgry = 'Freedom'\n",
    "    if not any(matches):\n",
    "        ctgry = 'State Governance'\n",
    "    # df.to_csv(f\"../repository/DUMP/WGI/{name.replace('.CSV', '').strip()} - {ctgry}.csv\", sep=\";\", index=False, decimal='.')\n",
    "    df.to_sql(name.split('-')[1].replace('.CSV', '').strip(), con=conn, index_label='id', if_exists='replace')"
   ]
  }
 ],
 "metadata": {
  "kernelspec": {
   "display_name": ".venv",
   "language": "python",
   "name": "python3"
  },
  "language_info": {
   "codemirror_mode": {
    "name": "ipython",
    "version": 3
   },
   "file_extension": ".py",
   "mimetype": "text/x-python",
   "name": "python",
   "nbconvert_exporter": "python",
   "pygments_lexer": "ipython3",
   "version": "3.11.6"
  }
 },
 "nbformat": 4,
 "nbformat_minor": 2
}
