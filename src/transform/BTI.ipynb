{
 "cells": [
  {
   "cell_type": "markdown",
   "metadata": {},
   "source": [
    "# Loading and cleaning"
   ]
  },
  {
   "cell_type": "code",
   "execution_count": 1,
   "metadata": {},
   "outputs": [],
   "source": [
    "import pandas as pd\n",
    "import numpy as np\n",
    "import glob\n",
    "import re"
   ]
  },
  {
   "cell_type": "code",
   "execution_count": 2,
   "metadata": {},
   "outputs": [],
   "source": [
    "files = [f for f in glob.glob(\"../repository/RAW/BTI*\")]\n",
    "dfs = []\n",
    "for i, f in enumerate(files):\n",
    "    year = re.search(\"(\\d{4})\", f).group(0)\n",
    "    with open(f, mode=\"r\", encoding=\"utf-8\"):\n",
    "        _df = pd.read_csv(f, sep=\";\", index_col=False, decimal=',')\n",
    "        regions = {\n",
    "            k.strip(): v.strip()\n",
    "            for k, v in [el.split(\"|\") for el in _df.columns[0].split(\"\\n\")[1:]]\n",
    "        }\n",
    "        _df = _df.rename(str.strip, axis=\"columns\")\n",
    "        _df = _df.dropna(axis=1, how=\"all\")\n",
    "        _df[\"Region\"] = _df[\"Region\"].astype(str)\n",
    "        _df[\"Region\"] = _df[\"Region\"].replace(regions)\n",
    "        _df = _df.rename({_df.columns[0]: \"Country\"}, axis=\"columns\")\n",
    "        _df[\"Year\"] = year\n",
    "        _df = _df.replace(['-', '?'], np.nan)\n",
    "        _df = _df.convert_dtypes()\n",
    "        _df = _df[[*_df.columns[:2], \"Year\", *_df.columns[2:]]] # Reorder Year column\n",
    "        _df = _df.loc[:,~_df.columns.duplicated()].copy() # Remove Year duplicates\n",
    "        to_drop = []\n",
    "        ptrn = re.compile('Trend.*')\n",
    "        for i, col in enumerate(_df.columns):\n",
    "            is_rm = re.match(ptrn, col)\n",
    "            if is_rm:\n",
    "                to_drop.append(i + 1) \n",
    "            try:\n",
    "                _df[col] = _df[col].str.replace(',', '.').astype(float)\n",
    "                try:\n",
    "                    _df[col] = _df[col].astype(int)\n",
    "                except ValueError:\n",
    "                    pass\n",
    "            except (ValueError, AttributeError):\n",
    "                continue\n",
    "        _df = _df.drop([_df.columns[i] for i in to_drop], axis=1) # Remove trending arrows\n",
    "        dfs.append(_df)"
   ]
  },
  {
   "cell_type": "code",
   "execution_count": 3,
   "metadata": {},
   "outputs": [],
   "source": [
    "cols = dfs[1].columns\n",
    "for df in dfs[1:]:\n",
    "    df.columns = cols\n",
    "df = pd.concat([*dfs[1:]])\n"
   ]
  },
  {
   "cell_type": "code",
   "execution_count": 4,
   "metadata": {},
   "outputs": [],
   "source": [
    "# df.to_csv('../repository/DUMP/Trasnformation Index (2008-2022)', sep=';')"
   ]
  },
  {
   "cell_type": "markdown",
   "metadata": {},
   "source": [
    "# Categorizing"
   ]
  },
  {
   "cell_type": "code",
   "execution_count": 5,
   "metadata": {},
   "outputs": [
    {
     "data": {
      "text/plain": [
       "0       6.0\n",
       "1       8.0\n",
       "2       4.0\n",
       "3       6.0\n",
       "4      10.0\n",
       "       ... \n",
       "132     2.0\n",
       "133     2.0\n",
       "134     1.0\n",
       "135     5.0\n",
       "136     3.0\n",
       "Name: Q2.1 | Free and fair elections, Length: 959, dtype: Float64"
      ]
     },
     "execution_count": 5,
     "metadata": {},
     "output_type": "execute_result"
    }
   ],
   "source": [
    "df['Q2.1 | Free and fair elections']"
   ]
  }
 ],
 "metadata": {
  "kernelspec": {
   "display_name": ".venv",
   "language": "python",
   "name": "python3"
  },
  "language_info": {
   "codemirror_mode": {
    "name": "ipython",
    "version": 3
   },
   "file_extension": ".py",
   "mimetype": "text/x-python",
   "name": "python",
   "nbconvert_exporter": "python",
   "pygments_lexer": "ipython3",
   "version": "3.11.6"
  },
  "orig_nbformat": 4
 },
 "nbformat": 4,
 "nbformat_minor": 2
}
