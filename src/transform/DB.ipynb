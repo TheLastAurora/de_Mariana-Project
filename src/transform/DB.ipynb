{
 "cells": [
  {
   "cell_type": "code",
   "execution_count": 47,
   "metadata": {},
   "outputs": [],
   "source": [
    "import pandas as pd\n",
    "import numpy as np\n",
    "import re"
   ]
  },
  {
   "cell_type": "code",
   "execution_count": 48,
   "metadata": {},
   "outputs": [],
   "source": [
    "f = open('../repository/RAW/FI - Economic Freedom.csv', mode='r')\n",
    "df = pd.read_csv(f, encoding='utf=8', sep=';')\n",
    "df = df.convert_dtypes()"
   ]
  },
  {
   "cell_type": "code",
   "execution_count": 49,
   "metadata": {},
   "outputs": [
    {
     "data": {
      "text/plain": [
       "['Year',\n",
       " 'ISO Code 2',\n",
       " 'ISO Code 3',\n",
       " 'Countries',\n",
       " 'Economic Freedom Summary Index',\n",
       " 'Rank',\n",
       " 'Quartile',\n",
       " '1A Government consumption',\n",
       " 'data',\n",
       " '1B  Transfers and subsidies',\n",
       " 'data.1',\n",
       " '1C  Government investment',\n",
       " 'data.2',\n",
       " '1Di Top marginal income tax rate',\n",
       " 'data.3',\n",
       " '1Dii Top marginal income and payroll tax rate',\n",
       " 'data.4',\n",
       " '1D  Top marginal tax rate',\n",
       " 'IE State ownership',\n",
       " '1  Size of Government',\n",
       " 'Area 1 Rank',\n",
       " '2A  Judicial independence',\n",
       " '2B  Impartial courts',\n",
       " '2C  Property rights',\n",
       " '2D  Military interference',\n",
       " '2E Legal integrity',\n",
       " '2F Contracts',\n",
       " '2G Real property',\n",
       " '2H Police and crime',\n",
       " 'Gender Disparity Index',\n",
       " '2  Legal System & Property Rights -- With Gender Adjustment',\n",
       " 'Area 2 Rank',\n",
       " '2 Legal System & Property Rights - No Gender Adjustment',\n",
       " '3A  Money growth',\n",
       " 'data.5',\n",
       " '3B  Standard deviation of inflation',\n",
       " 'data.6',\n",
       " '3C  Inflation',\n",
       " 'data.7',\n",
       " '3D  Foreign currency bank accounts',\n",
       " '3  Sound Money',\n",
       " 'Area 3 Rank',\n",
       " '4Ai  Trade tax revenue',\n",
       " 'data.8',\n",
       " '4Aii  Mean tariff rate',\n",
       " 'data.9',\n",
       " '4Aiii  Standard deviation of tariff rates',\n",
       " 'data.10',\n",
       " '4A  Tariffs',\n",
       " '4Bi  Non-tariff trade barriers',\n",
       " '4Bii  Costs of importing and exporting',\n",
       " '4B  Regulatory trade barriers',\n",
       " '4C  Black market exchange rates',\n",
       " '4Di  Financial openness',\n",
       " '4Dii  Capital controls',\n",
       " '4Diii Freedom of foreigners to visit',\n",
       " '4Div Protection of Foreign Assets',\n",
       " '4D  Controls of the movement of capital and people',\n",
       " '4  Freedom to trade internationally',\n",
       " 'Area 4 Rank',\n",
       " '5Ai  Ownership of banks',\n",
       " '5Aii Private sector credit',\n",
       " '5Aiii  Interest rate controls/negative real interest rates)',\n",
       " '5A  Credit market regulation',\n",
       " '5Bi  Labor regulations and minimum wage',\n",
       " '5Bii  Hiring and firing regulations',\n",
       " '5Biii  Flexible wage determination',\n",
       " '5Biv  Hours Regulations',\n",
       " '5Bv Cost of worker dismissal',\n",
       " '5Bvi  Conscription',\n",
       " '5Bvii Foreign Labor',\n",
       " '5B  Labor market regulations',\n",
       " '5Ci  Regulatory Burden',\n",
       " '5Cii  Bureacracy costs',\n",
       " '5Ciii  Impartial Public Administration',\n",
       " '5Civ Tax compliance',\n",
       " '5C  Business regulations',\n",
       " '5Di  Market openness',\n",
       " '5Dii Business Permits',\n",
       " '5Diii Distorton of the business environment',\n",
       " '5D Freedom to enter markets and compete',\n",
       " '5  Regulation',\n",
       " 'Area 5 Rank',\n",
       " 'World Bank Region',\n",
       " 'World Bank Current Income Classification, 1990-present']"
      ]
     },
     "execution_count": 49,
     "metadata": {},
     "output_type": "execute_result"
    }
   ],
   "source": [
    "list(df.columns)"
   ]
  }
 ],
 "metadata": {
  "kernelspec": {
   "display_name": ".venv",
   "language": "python",
   "name": "python3"
  },
  "language_info": {
   "codemirror_mode": {
    "name": "ipython",
    "version": 3
   },
   "file_extension": ".py",
   "mimetype": "text/x-python",
   "name": "python",
   "nbconvert_exporter": "python",
   "pygments_lexer": "ipython3",
   "version": "3.11.6"
  }
 },
 "nbformat": 4,
 "nbformat_minor": 2
}
